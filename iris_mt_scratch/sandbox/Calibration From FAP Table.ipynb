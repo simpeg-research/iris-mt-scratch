{
 "cells": [
  {
   "cell_type": "markdown",
   "metadata": {
    "iooxa": {
     "id": {
      "block": "dcfScHASpvmVd2OYzpWN",
      "project": "9QvEu5l3VaIkb17PuoF9",
      "version": 1
     }
    }
   },
   "source": [
    "## Problem Statement\n",
    "\n",
    "Given tables of frequency, amplitude, and phase we need to fit an interpolation function to these functions.\n",
    "\n",
    "This involves fitting a complex-valued function so there are two functions to fit.  \n",
    "\n",
    "1. The data from the manufacturer is not expected to come in homogeneous formats.  We will need an agreed upon standard method of interfacing with these tables.  Below I give an example from an old file format I used in the past\n",
    "\n",
    "Header = Frequency [Hz],Amplitude [V/nT],phase [degrees]\n",
    "\n",
    "2. asd\n",
    "\n",
    "\n"
   ]
  },
  {
   "cell_type": "markdown",
   "metadata": {
    "iooxa": {
     "id": {
      "block": "AHPiqi8VmWR5yZ2ISUQ8",
      "project": "9QvEu5l3VaIkb17PuoF9",
      "version": 1
     }
    }
   },
   "source": [
    "## Example Table"
   ]
  },
  {
   "cell_type": "code",
   "execution_count": 40,
   "metadata": {
    "iooxa": {
     "id": {
      "block": "33t8AKP3eliaQQq5Sixs",
      "project": "9QvEu5l3VaIkb17PuoF9",
      "version": 1
     },
     "outputId": {
      "block": "E9ym13zLWK5PN67uq0VC",
      "project": "9QvEu5l3VaIkb17PuoF9",
      "version": 1
     }
    }
   },
   "outputs": [
    {
     "name": "stdout",
     "output_type": "stream",
     "text": [
      "/home/kkappler/.cache/iris_mt/mth5_test_data/mth5_test_data/calibration_files/qf/ant4/1304_0_0.csv\n"
     ]
    }
   ],
   "source": [
    "import numpy as np\n",
    "import matplotlib.pyplot as plt\n",
    "import pandas as pd\n",
    "import os\n",
    "import re\n",
    "from scipy.interpolate import InterpolatedUnivariateSpline\n",
    "from mth5_test_data.util import MTH5_TEST_DATA_DIR\n",
    "#print(MTH5_TEST_DATA_DIR)\n",
    "#print(type(MTH5_TEST_DATA_DIR))\n",
    "qf_ant4_dir = MTH5_TEST_DATA_DIR.joinpath(\"calibration_files/qf/ant4\")\n",
    "qf_ant4_filebase = \"1304_0_0.csv\"\n",
    "qf_ant4_filepath = qf_ant4_dir.joinpath(qf_ant4_filebase)\n",
    "print(qf_ant4_filepath)\n",
    "#!cat /home/kkappler/.cache/iris_mt/mth5_test_data/mth5_test_data/calibration_files/qf/ant4/1304_0_0.csv\n"
   ]
  },
  {
   "cell_type": "code",
   "execution_count": 20,
   "metadata": {
    "iooxa": {
     "id": {
      "block": "RTpPYMHMh5z7EQ6Yk5jk",
      "project": "9QvEu5l3VaIkb17PuoF9",
      "version": 1
     },
     "outputId": null
    }
   },
   "outputs": [],
   "source": [
    "def read_and_parse_fap_header(fap_file_name):\n",
    "    \"\"\"\n",
    "    handles the specific case of fap headers of the following form:\n",
    "    Frequency [Hz],Amplitude [V/nT],phase [degrees]\n",
    "    \"\"\"\n",
    "\n",
    "    #<initialize rparams>\n",
    "    frequency_units = None\n",
    "    amplitude_units = None\n",
    "    phase_units = None\n",
    "    #<\\initialize rparams>\n",
    "    \n",
    "    with open(fap_file_name) as f:\n",
    "        header_list = f.readline().strip().split(',')\n",
    "    \n",
    "    looking_for = ['frequency', 'amplitude', 'phase']\n",
    "    for text_string in header_list:\n",
    "        for label in looking_for:\n",
    "            if re.search(label, text_string.lower() ):\n",
    "                if label == 'frequency':\n",
    "                    frequency_units = text_string.split('[', 1)[1].split(']')[0]\n",
    "                elif label == 'amplitude':\n",
    "                    amplitude_units = text_string.split('[', 1)[1].split(']')[0]\n",
    "                elif label == 'phase':\n",
    "                    phase_units = text_string.split('[', 1)[1].split(']')[0]\n",
    "\n",
    "    #Check that the rparams are not None\n",
    "    if None in [frequency_units, amplitude_units, phase_units]:\n",
    "        logger.warn(\"couldn't find at least one of frequency, amplitude or phase units\")\n",
    "\n",
    "    units_out, units_in = amplitude_units.split('/')\n",
    "    units_out = units_out.strip()\n",
    "    units_in = units_in.strip()\n",
    "    \n",
    "    out_dict = {}\n",
    "    out_dict['frequency_units'] = frequency_units\n",
    "    out_dict['amplitude_units'] = amplitude_units\n",
    "    out_dict['phase_units'] = phase_units\n",
    "    out_dict['units_out'] = units_out\n",
    "    out_dict['units_in'] = units_in\n",
    "    return out_dict\n",
    "\n"
   ]
  },
  {
   "cell_type": "code",
   "execution_count": 21,
   "metadata": {
    "iooxa": {
     "id": {
      "block": "owxGJcFd1EwEbMgdnN2f",
      "project": "9QvEu5l3VaIkb17PuoF9",
      "version": 1
     },
     "outputId": {
      "block": "mG7110cDxpTam0aoO314",
      "project": "9QvEu5l3VaIkb17PuoF9",
      "version": 1
     }
    }
   },
   "outputs": [
    {
     "name": "stdout",
     "output_type": "stream",
     "text": [
      "{'frequency_units': 'Hz', 'amplitude_units': 'V/nT', 'phase_units': 'degrees', 'units_out': 'V', 'units_in': 'nT'}\n"
     ]
    }
   ],
   "source": [
    "header_info_dict = read_and_parse_fap_header(qf_ant4_filepath)\n",
    "print(header_info_dict)"
   ]
  },
  {
   "cell_type": "code",
   "execution_count": 22,
   "metadata": {
    "iooxa": {
     "id": {
      "block": "sMnvaQkfE9qW2HC7MYax",
      "project": "9QvEu5l3VaIkb17PuoF9",
      "version": 1
     },
     "outputId": {
      "block": "9dNYFQSlRdwBpD77Jecw",
      "project": "9QvEu5l3VaIkb17PuoF9",
      "version": 1
     }
    }
   },
   "outputs": [
    {
     "data": {
      "text/html": [
       "<div>\n",
       "<style scoped>\n",
       "    .dataframe tbody tr th:only-of-type {\n",
       "        vertical-align: middle;\n",
       "    }\n",
       "\n",
       "    .dataframe tbody tr th {\n",
       "        vertical-align: top;\n",
       "    }\n",
       "\n",
       "    .dataframe thead th {\n",
       "        text-align: right;\n",
       "    }\n",
       "</style>\n",
       "<table border=\"1\" class=\"dataframe\">\n",
       "  <thead>\n",
       "    <tr style=\"text-align: right;\">\n",
       "      <th></th>\n",
       "      <th>frequency</th>\n",
       "      <th>amplitude</th>\n",
       "      <th>phase</th>\n",
       "    </tr>\n",
       "  </thead>\n",
       "  <tbody>\n",
       "    <tr>\n",
       "      <th>0</th>\n",
       "      <td>1.000000e-20</td>\n",
       "      <td>1.000000e-20</td>\n",
       "      <td>90.000000</td>\n",
       "    </tr>\n",
       "    <tr>\n",
       "      <th>1</th>\n",
       "      <td>1.000000e-10</td>\n",
       "      <td>1.000000e-10</td>\n",
       "      <td>90.000000</td>\n",
       "    </tr>\n",
       "    <tr>\n",
       "      <th>2</th>\n",
       "      <td>1.580000e-02</td>\n",
       "      <td>6.333601e-02</td>\n",
       "      <td>86.219084</td>\n",
       "    </tr>\n",
       "    <tr>\n",
       "      <th>3</th>\n",
       "      <td>1.616803e-02</td>\n",
       "      <td>6.480528e-02</td>\n",
       "      <td>86.131264</td>\n",
       "    </tr>\n",
       "    <tr>\n",
       "      <th>4</th>\n",
       "      <td>1.654463e-02</td>\n",
       "      <td>6.630833e-02</td>\n",
       "      <td>86.041414</td>\n",
       "    </tr>\n",
       "    <tr>\n",
       "      <th>...</th>\n",
       "      <td>...</td>\n",
       "      <td>...</td>\n",
       "      <td>...</td>\n",
       "    </tr>\n",
       "    <tr>\n",
       "      <th>390</th>\n",
       "      <td>9.160901e+01</td>\n",
       "      <td>2.316075e-03</td>\n",
       "      <td>-255.239800</td>\n",
       "    </tr>\n",
       "    <tr>\n",
       "      <th>391</th>\n",
       "      <td>9.363833e+01</td>\n",
       "      <td>2.168463e-03</td>\n",
       "      <td>-255.713700</td>\n",
       "    </tr>\n",
       "    <tr>\n",
       "      <th>392</th>\n",
       "      <td>9.571260e+01</td>\n",
       "      <td>2.030259e-03</td>\n",
       "      <td>-256.187500</td>\n",
       "    </tr>\n",
       "    <tr>\n",
       "      <th>393</th>\n",
       "      <td>9.783282e+01</td>\n",
       "      <td>1.900864e-03</td>\n",
       "      <td>-256.661400</td>\n",
       "    </tr>\n",
       "    <tr>\n",
       "      <th>394</th>\n",
       "      <td>1.000000e+02</td>\n",
       "      <td>1.779715e-03</td>\n",
       "      <td>-257.135200</td>\n",
       "    </tr>\n",
       "  </tbody>\n",
       "</table>\n",
       "<p>395 rows × 3 columns</p>\n",
       "</div>"
      ],
      "text/plain": [
       "        frequency     amplitude       phase\n",
       "0    1.000000e-20  1.000000e-20   90.000000\n",
       "1    1.000000e-10  1.000000e-10   90.000000\n",
       "2    1.580000e-02  6.333601e-02   86.219084\n",
       "3    1.616803e-02  6.480528e-02   86.131264\n",
       "4    1.654463e-02  6.630833e-02   86.041414\n",
       "..            ...           ...         ...\n",
       "390  9.160901e+01  2.316075e-03 -255.239800\n",
       "391  9.363833e+01  2.168463e-03 -255.713700\n",
       "392  9.571260e+01  2.030259e-03 -256.187500\n",
       "393  9.783282e+01  1.900864e-03 -256.661400\n",
       "394  1.000000e+02  1.779715e-03 -257.135200\n",
       "\n",
       "[395 rows x 3 columns]"
      ]
     },
     "execution_count": 22,
     "metadata": {},
     "output_type": "execute_result"
    }
   ],
   "source": [
    "df = pd.read_csv(qf_ant4_filepath, skiprows=1, names=['frequency', 'amplitude', 'phase'])\n",
    "df"
   ]
  },
  {
   "cell_type": "code",
   "execution_count": 41,
   "metadata": {},
   "outputs": [],
   "source": [
    "x = df['frequency'][2:]\n",
    "y = df['amplitude'][2:]\n",
    "spl = InterpolatedUnivariateSpline(x, y, k=1)"
   ]
  },
  {
   "cell_type": "markdown",
   "metadata": {},
   "source": [
    "# Linear"
   ]
  },
  {
   "cell_type": "code",
   "execution_count": 43,
   "metadata": {},
   "outputs": [
    {
     "data": {
      "text/plain": [
       "Text(0.5, 1.0, 'Linear Scales on both axes')"
      ]
     },
     "execution_count": 43,
     "metadata": {},
     "output_type": "execute_result"
    },
    {
     "data": {
      "image/png": "[encoded data removed]",
      "text/plain": [
       "<Figure size 432x288 with 1 Axes>"
      ]
     },
     "metadata": {
      "needs_background": "light"
     },
     "output_type": "display_data"
    }
   ],
   "source": [
    "plt.plot(df['frequency'][2:], df['amplitude'][2:], 'b*', markersize=2)\n",
    "plt.plot(x, spl(x), 'blue')\n",
    "plt.xlabel(' frequency (Hz)')\n",
    "plt.ylabel(' amplitude (V/nT)')\n",
    "plt.title(\"Linear Scales on both axes\")"
   ]
  },
  {
   "cell_type": "markdown",
   "metadata": {},
   "source": [
    "# Semi Log X"
   ]
  },
  {
   "cell_type": "code",
   "execution_count": 36,
   "metadata": {},
   "outputs": [
    {
     "data": {
      "text/plain": [
       "Text(0.5, 1.0, 'SemiLog X')"
      ]
     },
     "execution_count": 36,
     "metadata": {},
     "output_type": "execute_result"
    },
    {
     "data": {
      "image/png": "[encoded data removed]",
      "text/plain": [
       "<Figure size 432x288 with 1 Axes>"
      ]
     },
     "metadata": {
      "needs_background": "light"
     },
     "output_type": "display_data"
    }
   ],
   "source": [
    "plt.plot(np.log10(df['frequency'][2:]), df['amplitude'][2:], 'b*')\n",
    "plt.xlabel('$log_{10}$ frequency (Hz)')\n",
    "plt.ylabel('amplitude (V/nT)')\n",
    "plt.title(\"SemiLog X\")"
   ]
  },
  {
   "cell_type": "markdown",
   "metadata": {},
   "source": [
    "# Log-Log"
   ]
  },
  {
   "cell_type": "code",
   "execution_count": 38,
   "metadata": {
    "iooxa": {
     "id": {
      "block": "7QTYq9sw92UR9ZU38tjs",
      "project": "9QvEu5l3VaIkb17PuoF9",
      "version": 2
     },
     "outputId": {
      "block": "fM1j26xwQnkPPsz964eU",
      "project": "9QvEu5l3VaIkb17PuoF9",
      "version": 1
     }
    }
   },
   "outputs": [
    {
     "data": {
      "text/plain": [
       "Text(0.5, 1.0, 'title')"
      ]
     },
     "execution_count": 38,
     "metadata": {},
     "output_type": "execute_result"
    },
    {
     "data": {
      "image/png": "[encoded data removed]",
      "text/plain": [
       "<Figure size 432x288 with 1 Axes>"
      ]
     },
     "metadata": {
      "needs_background": "light"
     },
     "output_type": "display_data"
    }
   ],
   "source": [
    "plt.plot(np.log10(df['frequency'][2:]), np.log10(df['amplitude'][2:]), 'b*')\n",
    "plt.xlabel('$log_{10}$ frequency (Hz)')\n",
    "plt.ylabel('$log_{10}$ amplitude (V/nT)')\n",
    "plt.title(\"title\")"
   ]
  },
  {
   "cell_type": "code",
   "execution_count": 32,
   "metadata": {},
   "outputs": [
    {
     "data": {
      "text/plain": [
       "Text(0.5, 1.0, 'title')"
      ]
     },
     "execution_count": 32,
     "metadata": {},
     "output_type": "execute_result"
    },
    {
     "data": {
      "image/png": "[encoded data removed]",
      "text/plain": [
       "<Figure size 432x288 with 1 Axes>"
      ]
     },
     "metadata": {
      "needs_background": "light"
     },
     "output_type": "display_data"
    }
   ],
   "source": [
    "x = df['frequency'][2:]\n",
    "y = df['amplitude'][2:]\n",
    "spl = InterpolatedUnivariateSpline(x, y, k=1)\n",
    "plt.plot(np.log10(df['frequency'][2:]), df['amplitude'][2:], 'b*')\n",
    "plt.plot(spl(x), df['amplitude'][2:], 'b*')\n",
    "\n",
    "plt.xlabel('$log_{10}$ frequency (Hz)')\n",
    "plt.ylabel('$log_{10}$ amplitude (V/nT)')\n",
    "plt.title(\"title\")"
   ]
  },
  {
   "cell_type": "markdown",
   "metadata": {
    "iooxa": {
     "id": {
      "block": "u2porybMiUkDbhdpCpW9",
      "project": "9QvEu5l3VaIkb17PuoF9",
      "version": 1
     }
    }
   },
   "source": [
    "### Next Steps\n",
    "\n",
    "Do a simple interpolation fit using InterpolatedUnivariateSpline\n",
    "look at the fit in both linear and log space\n",
    "quantify the errors ... wait, there wont be any .. because it interpolates ... ugh... "
   ]
  },
  {
   "cell_type": "code",
   "execution_count": null,
   "metadata": {},
   "outputs": [],
   "source": []
  }
 ],
 "metadata": {
  "iooxa": {
   "id": {
    "block": "jahxXMnJKN6JL4DkRiIw",
    "project": "9QvEu5l3VaIkb17PuoF9",
    "version": 2
   }
  },
  "kernelspec": {
   "display_name": "Python (aurora)",
   "language": "python",
   "name": "aurora"
  },
  "language_info": {
   "codemirror_mode": {
    "name": "ipython",
    "version": 3
   },
   "file_extension": ".py",
   "mimetype": "text/x-python",
   "name": "python",
   "nbconvert_exporter": "python",
   "pygments_lexer": "ipython3",
   "version": "3.6.12"
  }
 },
 "nbformat": 4,
 "nbformat_minor": 2
}
