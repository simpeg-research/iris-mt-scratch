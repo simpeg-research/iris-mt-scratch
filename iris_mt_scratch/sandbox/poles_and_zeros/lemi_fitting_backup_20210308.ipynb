{
 "cells": [
  {
   "cell_type": "markdown",
   "metadata": {
    "iooxa": {
     "id": {
      "block": "wZjbfFElns2NeBB0DgIV",
      "project": "9QvEu5l3VaIkb17PuoF9",
      "version": 1
     }
    }
   },
   "source": [
    "<h1>Poles/Zeros/Gain from Look-Up Tables (Prototyping)</h1>\n",
    "KNK Feb 2021: Working off of BSM's original ipynb, factoring out numeric methods"
   ]
  },
  {
   "cell_type": "code",
   "execution_count": 1,
   "metadata": {
    "iooxa": {
     "id": {
      "block": "MiTVLQNKhpYOl8ps3M26",
      "project": "9QvEu5l3VaIkb17PuoF9",
      "version": 1
     },
     "outputId": {
      "block": "lr7V1bULRpSmwtjWVVMm",
      "project": "9QvEu5l3VaIkb17PuoF9",
      "version": 1
     }
    }
   },
   "outputs": [
    {
     "name": "stdout",
     "output_type": "stream",
     "text": [
      "/home/kkappler/.cache/iris_mt/mth5_test_data/mth5_test_data\n"
     ]
    }
   ],
   "source": [
    "from mth5_test_data.util import MTH5_TEST_DATA_DIR\n",
    "print(MTH5_TEST_DATA_DIR)"
   ]
  },
  {
   "cell_type": "code",
   "execution_count": 2,
   "metadata": {
    "iooxa": {
     "id": {
      "block": "6kjQ0NzLCzK6ccl3H4Um",
      "project": "9QvEu5l3VaIkb17PuoF9",
      "version": 2
     },
     "outputId": {
      "block": "zgZSzsBgBy5eCiBevn6i",
      "project": "9QvEu5l3VaIkb17PuoF9",
      "version": 1
     }
    }
   },
   "outputs": [
    {
     "name": "stderr",
     "output_type": "stream",
     "text": [
      "2021-03-08 18:15:01,815 [line 104] mt_metadata.setup_logger - INFO: Logging file can be found /home/kkappler/software/irismt/mt_metadata/logs/mt_metadata_debug.log\n",
      "2021-03-08 18:15:01,816 [line 104] error.setup_logger - INFO: Logging file can be found /home/kkappler/software/irismt/mt_metadata/logs/mt_metadata_error.log\n",
      "2021-03-08 18:15:01,821 [line 104] mt_metadata.base.schema.setup_logger - INFO: Logging file can be found /home/kkappler/software/irismt/mt_metadata/logs/metadata_schema.log\n"
     ]
    }
   ],
   "source": [
    "import matplotlib.pyplot as plt\n",
    "import numpy as np\n",
    "import os\n",
    "import pandas as pd\n",
    "\n",
    "from matplotlib.gridspec import GridSpec\n",
    "from plot_helpers import plot_response\n",
    "from scipy import signal\n",
    "\n",
    "#from tf_helpers import Fit_ZerosPolesGain_toFrequencyResponse_LM\n",
    "from tf_helpers import Fit_ZerosPolesGain_toFrequencyResponse_LLSQ\n",
    "from mt_metadata.timeseries.filters.plotting_helpers import plot_response\n",
    "#from plot_helpers import plot_response\n",
    "from iris_mt_scratch.sandbox.plot_helpers import plot_complex_response\n",
    "from vectfit_python import vectfit\n",
    "from zen import zen_response\n",
    "\n",
    "%matplotlib inline\n"
   ]
  },
  {
   "cell_type": "code",
   "execution_count": 4,
   "metadata": {
    "iooxa": {
     "id": {
      "block": "7HrEu4EUdIuvjjPN60Eg",
      "project": "9QvEu5l3VaIkb17PuoF9",
      "version": 1
     },
     "outputId": null
    }
   },
   "outputs": [],
   "source": [
    "DEG2RAD = np.pi/180"
   ]
  },
  {
   "cell_type": "markdown",
   "metadata": {
    "iooxa": {
     "id": {
      "block": "EPENQCwgb0pficBhQA7u",
      "project": "9QvEu5l3VaIkb17PuoF9",
      "version": 1
     }
    }
   },
   "source": [
    "## Load the data from data repo"
   ]
  },
  {
   "cell_type": "code",
   "execution_count": 6,
   "metadata": {
    "iooxa": {
     "id": {
      "block": "XFfs0mEX1LCLh8T5CMdQ",
      "project": "9QvEu5l3VaIkb17PuoF9",
      "version": 2
     },
     "outputId": {
      "block": "lqAilCibNH8rvRKApX2k",
      "project": "9QvEu5l3VaIkb17PuoF9",
      "version": 2
     }
    }
   },
   "outputs": [
    {
     "name": "stdout",
     "output_type": "stream",
     "text": [
      "Index(['frequency', 'amplitude_x', 'phase_x', 'amplitude_y', 'phase_y',\n",
      "       'amplitude_z', 'phase_z'],\n",
      "      dtype='object')\n"
     ]
    }
   ],
   "source": [
    "calibration_data_dir = os.path.join(MTH5_TEST_DATA_DIR, 'calibration_files', 'LEMI_Calibration', 'Lemi-039_N131BxByBz')\n",
    "calibration_file_path = os.path.join(calibration_data_dir, 'Lemi-039_N131.cal' )\n",
    "df = pd.read_csv(calibration_file_path, skiprows=3, delimiter='\\t')\n",
    "column_labels = ['frequency', 'amplitude_x', 'phase_x', 'amplitude_y', 'phase_y', 'amplitude_z', 'phase_z']\n",
    "columns_map = dict(zip(df.columns, column_labels))\n",
    "df = df.rename(columns=columns_map)\n",
    "print(df.columns)"
   ]
  },
  {
   "cell_type": "markdown",
   "metadata": {
    "iooxa": {
     "id": {
      "block": "0I4jokmx8NS7jnT4myQh",
      "project": "9QvEu5l3VaIkb17PuoF9",
      "version": 1
     }
    }
   },
   "source": [
    "## Preliminary Response Curve"
   ]
  },
  {
   "cell_type": "code",
   "execution_count": 7,
   "metadata": {
    "iooxa": {
     "id": {
      "block": "KpBmSTg1ZSX5JLhOAeF5",
      "project": "9QvEu5l3VaIkb17PuoF9",
      "version": 2
     },
     "outputId": {
      "block": "qQL1SMAZiWXJ3osT2nzz",
      "project": "9QvEu5l3VaIkb17PuoF9",
      "version": 2
     }
    }
   },
   "outputs": [
    {
     "name": "stdout",
     "output_type": "stream",
     "text": [
      "2021-03-08T18:16:30 [line 141] numexpr.utils._init_num_threads - INFO: NumExpr defaulting to 8 threads.\n"
     ]
    },
    {
     "data": {
      "image/png": "[encoded data removed]",
      "text/plain": [
       "<Figure size 432x288 with 2 Axes>"
      ]
     },
     "metadata": {
      "needs_background": "light"
     },
     "output_type": "display_data"
    }
   ],
   "source": [
    "x_phase_radians = DEG2RAD*df['phase_x']\n",
    "x_phasor = np.exp(1.J*x_phase_radians) #(np.cos( x_phase_radians)+ 1.j*np.sin(x_phase_radians))\n",
    "x_complex_response = df['amplitude_x'] * x_phasor\n",
    "\n",
    "plot_complex_response(df['frequency'], x_complex_response)\n",
    "#plt.semilogx(df['frequency'], deg2rad*df['phase_x'])"
   ]
  },
  {
   "cell_type": "markdown",
   "metadata": {
    "iooxa": {
     "id": {
      "block": "sFp1YrxMdXCZHTDYWy9G",
      "project": "9QvEu5l3VaIkb17PuoF9",
      "version": 1
     }
    }
   },
   "source": [
    "## Estimate the response amplitude in the pass band"
   ]
  },
  {
   "cell_type": "code",
   "execution_count": 8,
   "metadata": {
    "iooxa": {
     "id": {
      "block": "f69iqNaSl8znJMWnh2OM",
      "project": "9QvEu5l3VaIkb17PuoF9",
      "version": 1
     },
     "outputId": {
      "block": "bHBaz2xL92pNcTN6SFuh",
      "project": "9QvEu5l3VaIkb17PuoF9",
      "version": 1
     }
    }
   },
   "outputs": [
    {
     "name": "stdout",
     "output_type": "stream",
     "text": [
      "nominal_passband_response_amplitude 0.02847\n"
     ]
    }
   ],
   "source": [
    "nominal_passband_response_amplitude = df['amplitude_x'].iloc[10].mean()\n",
    "print('nominal_passband_response_amplitude', nominal_passband_response_amplitude)"
   ]
  },
  {
   "cell_type": "markdown",
   "metadata": {
    "iooxa": {
     "id": {
      "block": "7F2Sp6G3o7XAvukRM987",
      "project": "9QvEu5l3VaIkb17PuoF9",
      "version": 1
     }
    }
   },
   "source": [
    "## Express in units of deciBels and plot on semilog"
   ]
  },
  {
   "cell_type": "code",
   "execution_count": 9,
   "metadata": {
    "iooxa": {
     "id": {
      "block": "FHvzRFyO1xw76LTFiRJF",
      "project": "9QvEu5l3VaIkb17PuoF9",
      "version": 1
     },
     "outputId": null
    }
   },
   "outputs": [],
   "source": [
    "amplitude_in_db = 20*np.log10(df['amplitude_x']/nominal_passband_response_amplitude)"
   ]
  },
  {
   "cell_type": "code",
   "execution_count": 10,
   "metadata": {
    "iooxa": {
     "id": {
      "block": "SwwkX3YWoLAzk1ZZHtk6",
      "project": "9QvEu5l3VaIkb17PuoF9",
      "version": 2
     },
     "outputId": {
      "block": "53l9ayq4YPvFfJwPkYnB",
      "project": "9QvEu5l3VaIkb17PuoF9",
      "version": 2
     }
    }
   },
   "outputs": [
    {
     "data": {
      "text/plain": [
       "Text(0.5, 1.0, 'Amplitude Response of Instrument in dB')"
      ]
     },
     "execution_count": 10,
     "metadata": {},
     "output_type": "execute_result"
    },
    {
     "data": {
      "image/png": "[encoded data removed]",
      "text/plain": [
       "<Figure size 432x288 with 1 Axes>"
      ]
     },
     "metadata": {
      "needs_background": "light"
     },
     "output_type": "display_data"
    }
   ],
   "source": [
    "plt.semilogx(df['frequency'], amplitude_in_db)\n",
    "plt.semilogx(df['frequency'], amplitude_in_db, 'r*')\n",
    "plt.grid(which='both')\n",
    "plt.title('Amplitude Response of Instrument in dB')\n"
   ]
  },
  {
   "cell_type": "markdown",
   "metadata": {
    "iooxa": {
     "id": {
      "block": "iMRaL1KaVep5fwsN0f1L",
      "project": "9QvEu5l3VaIkb17PuoF9",
      "version": 1
     }
    }
   },
   "source": [
    "## Note that the decay is log-linear after about 5Hz\n",
    "...\n",
    "### Extend the line a bit further in log space to get an estimate of dB/decade"
   ]
  },
  {
   "cell_type": "code",
   "execution_count": 13,
   "metadata": {
    "iooxa": {
     "id": {
      "block": "1LERG0EhyXywvXrbAVLZ",
      "project": "9QvEu5l3VaIkb17PuoF9",
      "version": 1
     },
     "outputId": {
      "block": "6J6syNcfv52jHeTHbkjE",
      "project": "9QvEu5l3VaIkb17PuoF9",
      "version": 1
     }
    }
   },
   "outputs": [
    {
     "name": "stdout",
     "output_type": "stream",
     "text": [
      "db_per_decade -21.8456644503\n"
     ]
    },
    {
     "data": {
      "image/png": "[encoded data removed]",
      "text/plain": [
       "<Figure size 432x288 with 1 Axes>"
      ]
     },
     "metadata": {
      "needs_background": "light"
     },
     "output_type": "display_data"
    }
   ],
   "source": [
    "#The last 13 points are approximately a straight line on the log plot\n",
    "\n",
    "frq_line = df['frequency'][-13:]\n",
    "ampl_line = df['amplitude_x'][-13:]\n",
    "db_line = amplitude_in_db[-13:]\n",
    "log_f = np.array(np.log10(frq_line))\n",
    "log_a = np.array(np.log10(ampl_line))\n",
    "db = np.array(db_line)\n",
    "#plt.loglog(frq_line, ampl_line)\n",
    "plt.plot(log_f, db_line)\n",
    "plt.xlabel('log$_{10}$ frequency')\n",
    "plt.ylabel('dB')\n",
    "#(log_a[-1]-log_a[0]) / (log_f[-1]-log_f[0])\n",
    "db_per_decade = (db[-1]-db[0]) / (log_f[-1]-log_f[0])\n",
    "print(\"db_per_decade\", db_per_decade)#\n",
    "#We need to plot this line in terms of dB, on a log plot where we clearly mark either decades or octaves\n",
    "#This line may need to be extended forward in frequency, which we can do by extrapolating the line (lin logspace)"
   ]
  },
  {
   "cell_type": "markdown",
   "metadata": {
    "iooxa": {
     "id": {
      "block": "BiLM7llCkBPZyePBjqjk",
      "project": "9QvEu5l3VaIkb17PuoF9",
      "version": 1
     }
    }
   },
   "source": [
    "### looks like approximately -20dB/decade, which theoretically corresponds to a single pole.  We obtain a decent fit with one pole, but a better fit with 3poles and one zero.\n",
    "\n",
    "If we want to optimize we need to add constraints however.  In particular, a regulariization that forces 1: complex poles to be conjugates, and the 'odd' poles to be pure real.  This means modifying the LLSQ process."
   ]
  },
  {
   "cell_type": "markdown",
   "metadata": {},
   "source": [
    "## Here is the solutions from Ben's ipynb using Linear Least Squares"
   ]
  },
  {
   "cell_type": "code",
   "execution_count": 15,
   "metadata": {
    "iooxa": {
     "id": {
      "block": "uhGMTyln2lJl7CJ2swJn",
      "project": "9QvEu5l3VaIkb17PuoF9",
      "version": 2
     },
     "outputId": {
      "block": "TE6USowdOu7Mhg055bTv",
      "project": "9QvEu5l3VaIkb17PuoF9",
      "version": 2
     }
    }
   },
   "outputs": [
    {
     "name": "stdout",
     "output_type": "stream",
     "text": [
      "PARAMETERIZATION: 1 zeros, 3 poles\n",
      "ZerosPolesGainContinuous(\n",
      "array([-32.6930273+2.42939461j]),\n",
      "array([-1032.30977561-43.56871821j,   -19.41778864-14.74673119j,\n",
      "         -18.02197649+16.03155314j]),\n",
      "(-526.39801470067096-20.959507362663881j),\n",
      "dt: None\n",
      ")\n",
      "[ 179.79540659  179.75234024  179.70208872  179.64345864  179.57507195\n",
      "  179.49527966  179.40217388  179.29356278  179.16684673  179.01898005\n",
      "  178.8464565   178.64517016  178.410237    178.13603411  177.81581382\n",
      "  177.44202253  177.0053953   176.49513373  175.89830217  175.19965376\n",
      "  174.38086096  173.41946116  172.28806507  170.95272126  169.37066644\n",
      "  167.48772299  165.23414341  162.52155145  159.23920498  155.25505894\n",
      "  150.43229023  144.6666272   137.9610296   130.52651898  122.81176697\n",
      "  115.41563443  108.85673225  103.40970581   99.0809631    95.70961046\n",
      "   93.07178329   90.95164762   89.16554533   87.57102514   86.05923484\n",
      "   84.54805184   82.97347641   81.28337588   79.43222352   77.3808073 ]\n"
     ]
    },
    {
     "data": {
      "image/png": "[encoded data removed]",
      "text/plain": [
       "<Figure size 1008x288 with 3 Axes>"
      ]
     },
     "metadata": {
      "needs_background": "light"
     },
     "output_type": "display_data"
    }
   ],
   "source": [
    "n_zeros = 1; n_poles = 3;\n",
    "#n_zeros = 0; n_poles = 1;\n",
    "\n",
    "print(\"PARAMETERIZATION: {} zeros, {} poles\".format(n_zeros, n_poles))\n",
    "w_obs = 2*np.pi*df['frequency']\n",
    "resp_obs =  x_complex_response#df['amplitude_x']\n",
    "LEMI_LM_ZPK = Fit_ZerosPolesGain_toFrequencyResponse_LLSQ(w_obs, \n",
    "                                                        resp_obs, \n",
    "                                                        n_zeros, n_poles, useSKiter=False, \n",
    "                                                         regularize=False)\n",
    "print(LEMI_LM_ZPK)\n",
    "plot_response(resp_obs=resp_obs, w_obs=w_obs, x_units='frequency', \n",
    "              zpk_pred=LEMI_LM_ZPK, w_values=w_obs)\n"
   ]
  },
  {
   "cell_type": "markdown",
   "metadata": {
    "iooxa": {
     "id": {
      "block": "IBf9hf7Y8MDd7xc77Cgr",
      "project": "9QvEu5l3VaIkb17PuoF9",
      "version": 1
     }
    }
   },
   "source": [
    "### We are getting complex valued zpk elements"
   ]
  },
  {
   "cell_type": "markdown",
   "metadata": {
    "iooxa": {
     "id": {
      "block": "bF7gmhzXeEnipayuKJZh",
      "project": "9QvEu5l3VaIkb17PuoF9",
      "version": 1
     }
    }
   },
   "source": [
    "### Lets try a purely numerical approach using scipy optimize and some regularization that penalizes deviations from the fundamental theorem of algebra solutions"
   ]
  },
  {
   "cell_type": "markdown",
   "metadata": {
    "iooxa": {
     "id": {
      "block": "sLMbziJfJ5hbcKDCuCbo",
      "project": "9QvEu5l3VaIkb17PuoF9",
      "version": 1
     }
    }
   },
   "source": [
    "If there is an odd number of poles/zeros there must be at least one purely real root\n",
    "All other roots must come in complex-conjugate pairs\n",
    "This means that the sum of the complex components must be zero for both the poles, the zeros and their sum.\n",
    "\n",
    "Similarly the so-called gain factor (k) should be purely real valued."
   ]
  },
  {
   "cell_type": "markdown",
   "metadata": {
    "iooxa": {
     "id": {
      "block": "zcm9MLuBXkEixQiGUXnA",
      "project": "9QvEu5l3VaIkb17PuoF9",
      "version": 2
     }
    }
   },
   "source": [
    "## Set up the  problem using the classic d=G(m) framework\n",
    "    -We are given an empirical resposne curve, which is a complex-valued function of frequency.  This corresponds to our data **d**\n",
    "    - The model **m** is composed of three elements: first there is a tuple of complex-numbers, one per zero, zecond is a tuple of complex-numbers, one per pole, and third is a scalar multiplier.\n",
    "    - G is the function linking **d** and **m**\n",
    "    - Ben cast this as a linear problem but in this approach I am going to just search the model space using a direct evaluation of the zpk formula\n",
    "\n",
    "To define the model vector we need to first define the solution _order_.  The order is defined by two integers  (n_zeros, n_poles).  Generally n_poles >= n_zeros.\n",
    "\n",
    "The entire system is parameterized by the Laplace variable _s_  = *j* $\\omega$\n",
    "\n",
    "Ben parameterized the system like this:\n",
    "\n",
    "$ \\displaystyle h(s) = \\frac{a_{m}s^m + a_{m-1}s^{m-1} + ... + a_{1}s^{1} + a_{0}}{b_{n}s^{n} + b_{n-1}s^{n-1} + ... + b_{1}s^{1} + b_{0}} $\n",
    "\n",
    "We are going to use\n",
    "\n",
    "\n",
    "$ \\displaystyle d (s) = k  \\frac{(s-z_1)(s-z_2)...(s-z_m) }{(s-p_1)(s-p_2)...(s-p_n)} $\n",
    "\n",
    "\n"
   ]
  },
  {
   "cell_type": "code",
   "execution_count": 16,
   "metadata": {
    "iooxa": {
     "id": {
      "block": "SUJq5SudweE2JKsuYI19",
      "project": "9QvEu5l3VaIkb17PuoF9",
      "version": 1
     },
     "outputId": null
    }
   },
   "outputs": [],
   "source": [
    "def add_regularization_term(zeros, poles, k, misfit, aa=0.1, verbose=False):\n",
    "    if verbose:\n",
    "        print('misfit in', misfit)\n",
    "    #punish unbalanced imaginary components\n",
    "    misfit +=  aa * np.abs(np.mean(np.sum( np.imag(zeros) )) )\n",
    "    misfit += np.abs(np.mean(np.sum(np.imag(poles))))\n",
    "    misfit +=  aa * np.abs(np.imag(k))\n",
    "    #punish poles on rhs of plane\n",
    "    for pole in poles:\n",
    "        if np.real(pole)>0:\n",
    "            misfit += aa * np.abs(np.real(pole) )\n",
    "    if verbose:\n",
    "        print('misfit out', misfit)\n",
    "    return misfit"
   ]
  },
  {
   "cell_type": "code",
   "execution_count": 27,
   "metadata": {
    "iooxa": {
     "id": {
      "block": "gV8e4gyEu6OZSZJAcWxH",
      "project": "9QvEu5l3VaIkb17PuoF9",
      "version": 1
     },
     "outputId": {
      "block": "UuJ7xyFT9iFwYAe1Cxjg",
      "project": "9QvEu5l3VaIkb17PuoF9",
      "version": 1
     }
    }
   },
   "outputs": [
    {
     "name": "stdout",
     "output_type": "stream",
     "text": [
      "MODEL_VECTOR_0 [ 0.+0.j  0.+0.j  0.+0.j  0.+0.j  1.+0.j]\n",
      "zeros [ 0.+0.j]\n",
      "poles [ 0.+0.j  0.+0.j  0.+0.j]\n",
      "k (1+0j)\n",
      "misfit 11.9632284268\n"
     ]
    },
    {
     "data": {
      "text/plain": [
       "11.96322842682371"
      ]
     },
     "execution_count": 27,
     "metadata": {},
     "output_type": "execute_result"
    }
   ],
   "source": [
    "X_COMPLEX_RESPONSE = x_complex_response\n",
    "f = df['frequency'].to_numpy()\n",
    "W = 2*np.pi*f\n",
    "S = 1.j*W\n",
    "N_ZEROS = 1\n",
    "N_POLES = 3\n",
    "z0 = np.zeros(N_ZEROS, dtype=np.complex128)\n",
    "p0 = np.zeros(N_POLES, dtype=np.complex128)\n",
    "k0 = 1.0\n",
    "MODEL_VECTOR_0 = np.hstack((z0, p0, k0))\n",
    "print('MODEL_VECTOR_0',MODEL_VECTOR_0)\n",
    "#Now we need a function that takes the MODEL_VECTOR as input and creates a lambda function for h(s)\n",
    "\n",
    "def objective_function(model_vector, verbose=False):\n",
    "    #unpack the model vector\n",
    "    zeros = model_vector[:N_ZEROS]\n",
    "    poles = model_vector[N_ZEROS:N_ZEROS+N_POLES]\n",
    "    k = model_vector[-1]\n",
    "    if verbose:\n",
    "        print('zeros', zeros)\n",
    "        print('poles', poles)\n",
    "        print('k',k)\n",
    "    num, den = signal.zpk2tf(zeros, poles, k)\n",
    "    w, h = signal.freqs_zpk(zeros, poles, k, worN=W)\n",
    "    residual = X_COMPLEX_RESPONSE - h\n",
    "    misfit = np.sqrt(np.mean(np.abs(residual**2)))\n",
    "    misfit = add_regularization_term(zeros, poles, k, misfit, aa=0.1)\n",
    "    print('misfit',misfit)\n",
    "    return misfit\n",
    "\n",
    "objective_function(MODEL_VECTOR_0, verbose=True)"
   ]
  },
  {
   "cell_type": "code",
   "execution_count": 28,
   "metadata": {
    "iooxa": {
     "id": {
      "block": "DzsVDLaIl225VSFkS30H",
      "project": "9QvEu5l3VaIkb17PuoF9",
      "version": 1
     },
     "outputId": {
      "block": "FSATJTGVD0AB1zXuy3Mb",
      "project": "9QvEu5l3VaIkb17PuoF9",
      "version": 1
     }
    }
   },
   "outputs": [
    {
     "name": "stderr",
     "output_type": "stream",
     "text": [
      "/home/kkappler/.local/lib/python3.6/site-packages/numpy/core/_asarray.py:83: ComplexWarning: Casting complex values to real discards the imaginary part\n",
      "  return array(a, dtype, copy=False, order=order)\n"
     ]
    },
    {
     "name": "stdout",
     "output_type": "stream",
     "text": [
      "misfit 11.9632284268\n",
      "misfit 11.9632449554\n",
      "misfit 11.9632369196\n",
      "misfit 11.9632369196\n",
      "misfit 11.9632369196\n",
      "misfit 12.5619017262\n",
      "misfit 11.3645801522\n",
      "misfit 10.7659163896\n",
      "misfit 11.4843273564\n",
      "misfit 11.2927303862\n",
      "misfit 11.0245221777\n",
      "misfit 10.6490467572\n",
      "misfit 9.9919394556\n",
      "misfit 9.86052678988\n",
      "misfit 8.80914997082\n",
      "misfit 9.26940603403\n",
      "misfit 8.65164889801\n",
      "misfit 7.33109231463\n",
      "misfit 7.4424689973\n",
      "misfit 6.37173154951\n",
      "misfit 4.17467853464\n",
      "misfit 4.8187870514\n",
      "misfit 3.76109734231\n",
      "misfit 1.00725774203\n",
      "misfit 1.10069609235\n",
      "misfit 0.0735620060918\n",
      "misfit 3.82597020273\n",
      "misfit 2.91899227395\n",
      "misfit 3.501547309\n",
      "misfit 5.92714873822\n",
      "misfit 1.64927390276\n",
      "misfit 3.8085836383\n",
      "misfit 1.6743899785\n",
      "misfit 3.72381642231\n",
      "misfit 1.2586666457\n",
      "misfit 2.64541574601\n",
      "misfit 0.594938109762\n",
      "misfit 1.57543208527\n",
      "misfit 0.76966777554\n",
      "misfit 1.52811197668\n",
      "misfit 0.562460335879\n",
      "misfit 1.4959213696\n",
      "misfit 0.452126239613\n",
      "misfit 1.62456160853\n",
      "misfit 0.350018648509\n",
      "misfit 0.5995314049\n",
      "misfit 0.258114421656\n",
      "misfit 0.765053136298\n",
      "misfit 0.255819001382\n",
      "misfit 0.855368521561\n",
      "misfit 0.209064165339\n",
      "misfit 0.422661661588\n",
      "misfit 0.205004678162\n",
      "misfit 0.541220810398\n",
      "misfit 0.128850243242\n",
      "misfit 0.501224365101\n",
      "misfit 0.0713319521341\n",
      "misfit 0.141875842111\n",
      "misfit 0.233199462086\n",
      "misfit 0.100481107286\n",
      "misfit 0.271259618542\n",
      "misfit 0.0882110392052\n",
      "misfit 0.165044174021\n",
      "misfit 0.0680357889445\n",
      "misfit 0.176771499861\n",
      "misfit 0.0560233767111\n",
      "misfit 0.111367252656\n",
      "misfit 0.0513456687825\n",
      "misfit 0.114294211992\n",
      "misfit 0.0423494667017\n",
      "misfit 0.112723817\n",
      "misfit 0.03344529792\n",
      "misfit 0.0681245081703\n",
      "misfit 0.0384692415707\n",
      "misfit 0.101525533219\n",
      "misfit 0.0323346305757\n",
      "misfit 0.099851495469\n",
      "misfit 0.0263830001533\n",
      "misfit 0.0330291701313\n",
      "misfit 0.0443087792535\n",
      "misfit 0.0282665983216\n",
      "misfit 0.0450995040459\n",
      "misfit 0.0261274597256\n",
      "misfit 0.0434606874042\n",
      "misfit 0.0241262385734\n",
      "misfit 0.033895360194\n",
      "misfit 0.0252201026239\n",
      "misfit 0.036745355321\n",
      "misfit 0.0244896461614\n",
      "misfit 0.0318277058674\n",
      "misfit 0.023417344846\n",
      "misfit 0.0283175133148\n",
      "misfit 0.0230852470912\n",
      "misfit 0.0288627324244\n",
      "misfit 0.0229347194629\n",
      "misfit 0.0264267223258\n",
      "misfit 0.0228545162784\n",
      "misfit 0.0266130873181\n",
      "misfit 0.0225820168493\n",
      "misfit 0.0245554531731\n",
      "misfit 0.0226531069844\n",
      "misfit 0.0242154903962\n",
      "misfit 0.0224345896224\n",
      "misfit 0.0235523083146\n",
      "misfit 0.0223828888779\n",
      "misfit 0.023460563156\n",
      "misfit 0.0223410405428\n",
      "misfit 0.0231850012471\n",
      "misfit 0.0223386813734\n",
      "misfit 0.0229863990116\n",
      "misfit 0.0222896788636\n",
      "misfit 0.022763392577\n",
      "misfit 0.0222856731426\n",
      "misfit 0.0226102416336\n",
      "misfit 0.0222506576525\n",
      "misfit 0.0224574133047\n",
      "misfit 0.022246898509\n",
      "misfit 0.0224553742746\n",
      "misfit 0.0222335095547\n",
      "misfit 0.0223890556665\n",
      "misfit 0.0222383518552\n",
      "misfit 0.0223640522026\n",
      "misfit 0.0222245956308\n",
      "misfit 0.0223102701964\n",
      "misfit 0.0222278559104\n",
      "misfit 0.0222916682794\n",
      "misfit 0.0222180832008\n",
      "misfit 0.0222542128808\n",
      "misfit 0.0222200385509\n",
      "misfit 0.0222562426705\n",
      "misfit 0.0222169467556\n",
      "misfit 0.0222457369908\n",
      "misfit 0.022216265315\n",
      "misfit 0.0222386956184\n",
      "misfit 0.0222150298558\n",
      "misfit 0.0222319022251\n",
      "misfit 0.0222145526458\n",
      "misfit 0.0222254576933\n",
      "misfit 0.022213626192\n",
      "misfit 0.0222212613002\n",
      "misfit 0.0222133471015\n",
      "misfit 0.0222204741565\n",
      "misfit 0.0222130460021\n",
      "misfit 0.0222183108423\n",
      "misfit 0.0222130070149\n",
      "misfit 0.0222172008869\n",
      "misfit 0.0222127006082\n",
      "misfit 0.022215823451\n",
      "misfit 0.022212664085\n",
      "misfit 0.0222147457965\n",
      "misfit 0.0222124566847\n",
      "misfit 0.0222138167676\n",
      "misfit 0.0222124442485\n",
      "misfit 0.0222137902046\n",
      "misfit 0.0222123490469\n",
      "misfit 0.0222132903893\n",
      "misfit 0.0222123780532\n",
      "misfit 0.0222131751587\n",
      "misfit 0.022212288473\n",
      "misfit 0.0222128619574\n",
      "misfit 0.0222123037682\n",
      "misfit 0.0222127115082\n",
      "misfit 0.0222122498729\n",
      "misfit 0.0222124804388\n",
      "misfit 0.0222122650412\n",
      "misfit 0.0222124783016\n",
      "misfit 0.0222122424644\n",
      "misfit 0.0222124296684\n",
      "misfit 0.022212237016\n",
      "misfit 0.022212390105\n",
      "misfit 0.0222122260172\n",
      "misfit 0.022212337444\n",
      "misfit 0.0222122258367\n",
      "misfit 0.0222122944441\n",
      "misfit 0.0222122218481\n",
      "misfit 0.0222122659937\n",
      "misfit 0.0222122191917\n",
      "misfit 0.0222122597695\n",
      "misfit 0.0222122171881\n",
      "misfit 0.0222122513311\n",
      "misfit 0.0222122160783\n",
      "misfit 0.0222122474767\n",
      "misfit 0.0222122129887\n",
      "misfit 0.0222122346414\n",
      "misfit 0.022212214147\n",
      "misfit 0.0222122262983\n",
      "misfit 0.0222122135317\n",
      "misfit 0.0222122204704\n",
      "misfit 0.0222122130921\n",
      "misfit 0.0222122199686\n",
      "misfit 0.0222122124304\n",
      "misfit 0.022212218618\n",
      "misfit 0.0222122121664\n",
      "misfit 0.0222122170902\n",
      "misfit 0.0222122116803\n",
      "misfit 0.0222122119949\n",
      "misfit 0.0222122110347\n",
      "misfit 0.0222122138177\n",
      "misfit 0.0222122166552\n",
      "misfit 0.0222122109278\n",
      "misfit 0.0222122114951\n",
      "misfit 0.0222122094985\n",
      "misfit 0.0222122096578\n",
      "misfit 0.0222122118632\n",
      "misfit 0.0222122104969\n",
      "misfit 0.0222122101182\n",
      "misfit 0.0222122192823\n",
      "misfit 0.0222122096393\n",
      "misfit 0.0222122091531\n",
      "misfit 0.0222122088952\n",
      "misfit 0.022212208126\n",
      "misfit 0.022212207288\n",
      "misfit 0.0222122075069\n",
      "misfit 0.0222122116364\n",
      "misfit 0.0222122086802\n",
      "misfit 0.0222122067597\n",
      "misfit 0.0222122054184\n",
      "misfit 0.0222122057641\n",
      "misfit 0.022212204604\n",
      "misfit 0.0222122025796\n",
      "misfit 0.0222122035661\n",
      "misfit 0.0222122019132\n",
      "misfit 0.0222121992089\n",
      "misfit 0.0222121990047\n",
      "misfit 0.0222121951294\n",
      "misfit 0.0222121968555\n",
      "misfit 0.0222121930095\n",
      "misfit 0.0222121869466\n",
      "misfit 0.0222121911518\n",
      "misfit 0.0222121845292\n",
      "misfit 0.0222121755777\n",
      "misfit 0.0222121789419\n",
      "misfit 0.0222121735538\n",
      "misfit 0.0222121619033\n",
      "misfit 0.0222121621699\n",
      "misfit 0.022212155657\n",
      "misfit 0.0222121395591\n",
      "misfit 0.0222121408023\n",
      "misfit 0.0222121323612\n",
      "misfit 0.0222121097627\n",
      "misfit 0.0222121089784\n",
      "misfit 0.0222120761257\n",
      "misfit 0.0222120893567\n",
      "misfit 0.0222120605633\n",
      "misfit 0.0222120122633\n",
      "misfit 0.022212039671\n",
      "misfit 0.0222119894737\n",
      "misfit 0.0222119151646\n",
      "misfit 0.0222119449942\n",
      "misfit 0.0222119077744\n",
      "misfit 0.0222118227659\n",
      "misfit 0.0222118303439\n",
      "misfit 0.0222117665156\n",
      "misfit 0.022211630652\n",
      "misfit 0.0222116516244\n",
      "misfit 0.0222115972524\n",
      "misfit 0.0222114321832\n",
      "misfit 0.0222114555268\n",
      "misfit 0.0222113611298\n",
      "misfit 0.0222111292565\n",
      "misfit 0.022211103334\n",
      "misfit 0.0222107629904\n",
      "misfit 0.0222109110262\n",
      "misfit 0.022210700036\n",
      "misfit 0.0222103239773\n",
      "misfit 0.0222103399351\n",
      "misfit 0.0222099788887\n",
      "misfit 0.0222093410436\n",
      "misfit 0.022209624042\n",
      "misfit 0.0222093385776\n",
      "misfit 0.0222087674203\n",
      "misfit 0.0222087762978\n",
      "misfit 0.0222086841624\n",
      "misfit 0.0222084182661\n",
      "misfit 0.0222078189991\n",
      "misfit 0.0222072165263\n",
      "misfit 0.0222076475952\n",
      "misfit 0.0222081051021\n",
      "misfit 0.0222080094885\n",
      "misfit 0.0222088826082\n",
      "misfit 0.0222080114878\n",
      "misfit 0.022207236644\n",
      "misfit 0.0222070551497\n",
      "misfit 0.0222067872513\n",
      "misfit 0.0222069339251\n",
      "misfit 0.022206442912\n",
      "misfit 0.0222062996065\n",
      "misfit 0.0222055588982\n",
      "misfit 0.0222045201056\n",
      "misfit 0.0222057646602\n",
      "misfit 0.022204502378\n",
      "misfit 0.0222033844398\n",
      "misfit 0.0222062267734\n",
      "misfit 0.0222033062696\n",
      "misfit 0.0222019315352\n",
      "misfit 0.022201685677\n",
      "misfit 0.0221994370494\n",
      "misfit 0.0222007233059\n",
      "misfit 0.0221974272956\n",
      "misfit 0.0221932635949\n",
      "misfit 0.022196010416\n",
      "misfit 0.0221924254355\n",
      "misfit 0.022187043297\n",
      "misfit 0.0221884472362\n",
      "misfit 0.0221869255787\n",
      "misfit 0.0221836436836\n",
      "misfit 0.0221780464453\n",
      "misfit 0.0221675705407\n",
      "misfit 0.0221699276471\n",
      "misfit 0.0221659962777\n",
      "misfit 0.0221558729764\n",
      "misfit 0.0221624807069\n",
      "misfit 0.0221514540368\n",
      "misfit 0.0221413593926\n",
      "misfit 0.0221295811244\n",
      "misfit 0.0221028061661\n",
      "misfit 0.0221333283363\n",
      "misfit 0.0221261430197\n",
      "misfit 0.0221006693148\n",
      "misfit 0.0220765407069\n",
      "misfit 0.0220879780234\n",
      "misfit 0.0220692813067\n",
      "misfit 0.0220666822019\n",
      "misfit 0.0220607010883\n",
      "misfit 0.0220542574589\n",
      "misfit 0.022036736769\n",
      "misfit 0.0220118269519\n",
      "misfit 0.0221222883959\n",
      "misfit 0.0220515148643\n",
      "misfit 0.0220133963165\n",
      "misfit 0.0220024009308\n",
      "misfit 0.0220004992566\n",
      "misfit 0.0219781094127\n",
      "misfit 0.021963828887\n",
      "misfit 0.0219550408163\n",
      "misfit 0.0219344749155\n",
      "misfit 0.0219803841898\n",
      "misfit 0.0219572979738\n",
      "misfit 0.0219333587035\n",
      "misfit 0.0219087376258\n",
      "misfit 0.0219084316658\n",
      "misfit 0.0218913353414\n",
      "misfit 0.0219044675216\n",
      "misfit 0.0218902411427\n",
      "misfit 0.0219256477418\n",
      "misfit 0.0219107956393\n",
      "misfit 0.0219263216077\n",
      "misfit 0.0219011208257\n",
      "misfit 0.0219142042643\n",
      "misfit 0.0218956979584\n",
      "misfit 0.0219322211491\n",
      "misfit 0.0218940049724\n",
      "misfit 0.0219037173479\n",
      "misfit 0.0218961998456\n",
      "misfit 0.0218976764473\n",
      "misfit 0.0218926275287\n",
      "misfit 0.0219014865428\n",
      "misfit 0.0218913349861\n",
      "misfit 0.0218937937044\n",
      "misfit 0.0218920365291\n",
      "misfit 0.0219013200226\n",
      "misfit 0.0218898212495\n",
      "misfit 0.0218939063705\n",
      "misfit 0.0218905028809\n",
      "misfit 0.0218916881924\n",
      "misfit 0.0218901947291\n",
      "misfit 0.0218901352697\n",
      "misfit 0.0218920817521\n",
      "misfit 0.0218896594029\n",
      "misfit 0.0218902682239\n",
      "misfit 0.0218894929806\n",
      "misfit 0.0218892736267\n",
      "misfit 0.0218921981603\n",
      "misfit 0.0218908122725\n",
      "misfit 0.0218889970843\n",
      "misfit 0.0218905371689\n",
      "misfit 0.0218893228006\n",
      "misfit 0.0218904748697\n",
      "misfit 0.0218887756215\n",
      "misfit 0.0218897179246\n",
      "misfit 0.0218890628542\n",
      "misfit 0.0218896431462\n",
      "misfit 0.0218890357576\n",
      "misfit 0.0218895053566\n",
      "misfit 0.0218889546091\n",
      "misfit 0.0218895938862\n",
      "misfit 0.0218887948596\n",
      "misfit 0.0218891266973\n",
      "misfit 0.0218888104254\n",
      "misfit 0.0218891414282\n",
      "misfit 0.0218887985433\n",
      "misfit 0.0218893629058\n",
      "misfit 0.0218886079197\n",
      "misfit 0.0218889270752\n",
      "misfit 0.0218886482863\n",
      "misfit 0.0218890786558\n",
      "misfit 0.0218886664388\n",
      "misfit 0.0218890798047\n",
      "misfit 0.0218886569582\n",
      "misfit 0.0218886708818\n",
      "misfit 0.0218886689105\n",
      "misfit 0.0218888146121\n",
      "misfit 0.0218885284301\n",
      "misfit 0.0218887481548\n",
      "misfit 0.0218885872117\n",
      "misfit 0.0218886938816\n",
      "misfit 0.0218885877088\n",
      "misfit 0.0218886938588\n",
      "misfit 0.0218885755434\n",
      "misfit 0.0218886472655\n",
      "misfit 0.0218885781829\n",
      "misfit 0.0218887061832\n",
      "misfit 0.0218885044586\n",
      "misfit 0.0218884924446\n",
      "misfit 0.0218885633945\n",
      "misfit 0.021888557602\n",
      "misfit 0.0218886209903\n",
      "misfit 0.021888533332\n",
      "misfit 0.0218886247228\n",
      "misfit 0.0218885269768\n",
      "misfit 0.021888553484\n",
      "misfit 0.0218885262858\n"
     ]
    },
    {
     "name": "stdout",
     "output_type": "stream",
     "text": [
      "misfit 0.0218885302657\n",
      "misfit 0.0218885057114\n",
      "misfit 0.0218885361565\n",
      "misfit 0.0218885023518\n",
      "misfit 0.0218885327792\n",
      "misfit 0.0218885090839\n",
      "misfit 0.021888546224\n",
      "misfit 0.0218885075009\n",
      "misfit 0.0218885202961\n",
      "misfit 0.0218884986973\n",
      "misfit 0.0218885249694\n",
      "misfit 0.0218884971371\n",
      "misfit 0.0218885001429\n",
      "misfit 0.0218885111563\n",
      "misfit 0.0218884944416\n",
      "misfit 0.0218885054994\n",
      "misfit 0.0218884934434\n",
      "misfit 0.0218884989046\n",
      "misfit 0.0218884933807\n",
      "misfit 0.0218885014951\n",
      "misfit 0.0218884945264\n",
      "misfit 0.0218885011658\n",
      "misfit 0.0218884935578\n",
      "misfit 0.0218884979209\n",
      "misfit 0.0218884921536\n",
      "misfit 0.0218884956647\n",
      "misfit 0.0218884921928\n",
      "misfit 0.0218884969628\n",
      "misfit 0.0218884917164\n",
      "misfit 0.0218884916175\n",
      "misfit 0.021888492887\n",
      "misfit 0.0218884936372\n",
      "misfit 0.0218884914937\n",
      "misfit 0.0218884932273\n",
      "misfit 0.0218884910197\n",
      "misfit 0.0218884937045\n",
      "misfit 0.0218884907509\n",
      "misfit 0.0218884916419\n",
      "misfit 0.021888492065\n",
      "misfit 0.0218884910198\n",
      "misfit 0.0218884918548\n",
      "misfit 0.0218884908341\n",
      "misfit 0.0218884932007\n",
      "misfit 0.0218884909825\n",
      "misfit 0.0218884914806\n",
      "misfit 0.0218884910255\n",
      "misfit 0.0218884908336\n",
      "misfit 0.0218884911854\n",
      "misfit 0.0218884907204\n",
      "misfit 0.0218884904581\n",
      "misfit 0.0218884910131\n",
      "misfit 0.0218884918098\n",
      "misfit 0.0218884905935\n",
      "misfit 0.0218884907669\n",
      "misfit 0.0218884907867\n",
      "misfit 0.0218884906024\n",
      "misfit 0.0218884904006\n",
      "misfit 0.0218884907475\n",
      "misfit 0.021888490747\n",
      "misfit 0.0218884905823\n",
      "misfit 0.0218884901646\n",
      "misfit 0.021888490322\n",
      "misfit 0.0218884903264\n",
      "misfit 0.0218884905029\n",
      "misfit 0.0218884908874\n",
      "misfit 0.0218884903209\n",
      "misfit 0.0218884904833\n",
      "misfit 0.0218884903155\n",
      "misfit 0.0218884904011\n",
      "misfit 0.0218884902689\n",
      "misfit 0.021888490271\n",
      "misfit 0.0218884904698\n",
      "misfit 0.0218884901882\n",
      "misfit 0.0218884901191\n",
      "misfit 0.0218884901494\n",
      "misfit 0.0218884900578\n",
      "misfit 0.0218884900349\n",
      "misfit 0.0218884902993\n",
      "misfit 0.0218884901807\n",
      "misfit 0.0218884902021\n",
      "misfit 0.0218884901279\n",
      "misfit 0.0218884900753\n",
      "misfit 0.0218884901775\n",
      "misfit 0.02188849013\n",
      "misfit 0.0218884900129\n",
      "misfit 0.0218884899446\n",
      "misfit 0.0218884899715\n",
      "misfit 0.0218884899137\n",
      "misfit 0.0218884898242\n",
      "misfit 0.0218884898215\n",
      "misfit 0.0218884897196\n",
      "misfit 0.0218884897698\n",
      "misfit 0.0218884896136\n",
      "misfit 0.0218884894049\n",
      "misfit 0.0218884894484\n",
      "misfit 0.0218884892782\n",
      "misfit 0.021888488947\n",
      "misfit 0.0218884890852\n",
      "misfit 0.021888488924\n",
      "misfit 0.0218884886271\n",
      "misfit 0.0218884884669\n",
      "misfit 0.0218884879302\n",
      "misfit 0.0218884880359\n",
      "misfit 0.0218884875662\n",
      "misfit 0.0218884866969\n",
      "misfit 0.0218884868755\n",
      "misfit 0.0218884862895\n",
      "misfit 0.0218884850959\n",
      "misfit 0.0218884852531\n",
      "misfit 0.021888484528\n",
      "misfit 0.0218884827779\n",
      "misfit 0.0218884830711\n",
      "misfit 0.0218884822259\n",
      "misfit 0.0218884800613\n",
      "misfit 0.0218884795913\n",
      "misfit 0.0218884760629\n",
      "misfit 0.0218884784612\n",
      "misfit 0.0218884748782\n",
      "misfit 0.0218884698246\n",
      "misfit 0.0218884715622\n",
      "misfit 0.0218884684969\n",
      "misfit 0.0218884628312\n",
      "misfit 0.0218884630685\n",
      "misfit 0.0218884581318\n",
      "misfit 0.0218884479747\n",
      "misfit 0.0218884507808\n",
      "misfit 0.021888447036\n",
      "misfit 0.0218884367805\n",
      "misfit 0.0218884364764\n",
      "misfit 0.0218884238539\n",
      "misfit 0.0218884258934\n",
      "misfit 0.0218884097148\n",
      "misfit 0.0218883847092\n",
      "misfit 0.0218883973129\n",
      "misfit 0.0218883953988\n",
      "misfit 0.0218883766607\n",
      "misfit 0.0218883541433\n",
      "misfit 0.0218883591439\n",
      "misfit 0.0218883352748\n",
      "misfit 0.0218883021091\n",
      "misfit 0.0218883292122\n",
      "misfit 0.0218882898068\n",
      "misfit 0.0218882408584\n",
      "misfit 0.0218882939832\n",
      "misfit 0.0218882585212\n",
      "misfit 0.0218882362302\n",
      "misfit 0.0218882175077\n",
      "misfit 0.0218881962642\n",
      "misfit 0.0218881612747\n",
      "misfit 0.0218881949696\n",
      "misfit 0.0218881159074\n",
      "misfit 0.0218880465843\n",
      "misfit 0.0218880983999\n",
      "misfit 0.0218882640304\n",
      "misfit 0.0218881635061\n",
      "misfit 0.0218880385954\n",
      "misfit 0.0218879539704\n",
      "misfit 0.0218879601732\n",
      "misfit 0.0218879935614\n",
      "misfit 0.0218878701691\n",
      "misfit 0.0218877574157\n",
      "misfit 0.0218877659936\n",
      "misfit 0.0218877295962\n",
      "misfit 0.021887609419\n",
      "misfit 0.0218875935067\n",
      "misfit 0.0218874026497\n",
      "misfit 0.0218874836675\n",
      "misfit 0.0218873079397\n",
      "misfit 0.0218871083902\n",
      "misfit 0.0218871881291\n",
      "misfit 0.0218869248142\n",
      "misfit 0.0218865705681\n",
      "misfit 0.0218866286941\n",
      "misfit 0.0218864249488\n",
      "misfit 0.0218859635239\n",
      "misfit 0.0218865798653\n",
      "misfit 0.0218859711145\n",
      "misfit 0.0218855798492\n",
      "misfit 0.0218849806154\n",
      "misfit 0.0218856087066\n",
      "misfit 0.0218850034832\n",
      "misfit 0.0218846650107\n",
      "misfit 0.0218842311934\n",
      "misfit 0.021884165518\n",
      "misfit 0.0218834872005\n",
      "misfit 0.0218839570389\n",
      "misfit 0.0218828785622\n",
      "misfit 0.0218818366301\n",
      "misfit 0.0218837923379\n",
      "misfit 0.0218830714831\n",
      "misfit 0.0218822624031\n",
      "misfit 0.0218817820184\n",
      "misfit 0.0218877933103\n",
      "misfit 0.0218810516156\n",
      "misfit 0.0218801946836\n",
      "misfit 0.0218993167253\n",
      "misfit 0.021882362887\n",
      "misfit 0.0218808158687\n",
      "misfit 0.0218801617011\n",
      "misfit 0.0218794375275\n",
      "misfit 0.0218798130386\n",
      "misfit 0.0218789926477\n",
      "misfit 0.0218784264159\n",
      "misfit 0.0218794297586\n",
      "misfit 0.0218783786281\n",
      "misfit 0.0219276978694\n",
      "misfit 0.0218784750386\n",
      "misfit 0.0219293633298\n",
      "misfit 0.0218789640093\n",
      "misfit 0.0218796049894\n",
      "misfit 0.0218787306015\n",
      "misfit 0.0219472657661\n",
      "misfit 0.0218787676072\n",
      "misfit 0.0218949400403\n",
      "misfit 0.0218786337006\n",
      "misfit 0.0218970542671\n",
      "misfit 0.0218785491976\n",
      "misfit 0.0218785633683\n",
      "misfit 0.0218902182389\n",
      "misfit 0.0218784717357\n",
      "misfit 0.0218786343708\n",
      "misfit 0.0218784371084\n",
      "misfit 0.0218892953949\n",
      "misfit 0.0218784502872\n",
      "misfit 0.0218786175137\n",
      "misfit 0.0218784043261\n",
      "misfit 0.0218786453321\n",
      "misfit 0.0218784234116\n",
      "misfit 0.0218783585482\n",
      "misfit 0.0218898933382\n",
      "misfit 0.0218784262647\n",
      "misfit 0.0218784240719\n",
      "misfit 0.0218785510191\n",
      "misfit 0.021878379501\n",
      "misfit 0.0218784028166\n",
      "misfit 0.0218835226849\n",
      "misfit 0.0218783921363\n",
      "misfit 0.0218784339991\n",
      "misfit 0.0218783784182\n",
      "misfit 0.0218783991456\n",
      "misfit 0.0218783788599\n",
      "misfit 0.021878359869\n",
      "misfit 0.0218783882703\n",
      "misfit 0.0218783695201\n",
      "misfit 0.0218783619556\n",
      "misfit 0.0218805730073\n",
      "misfit 0.021878369287\n",
      "misfit 0.0218806943227\n",
      "misfit 0.0218783684232\n",
      "misfit 0.0218783594666\n",
      "misfit 0.0218813535455\n",
      "misfit 0.0218783636695\n",
      "misfit 0.0218814778356\n",
      "misfit 0.0218783631305\n",
      "misfit 0.0218798103329\n",
      "misfit 0.0218783611497\n",
      "misfit 0.0218797058839\n",
      "misfit 0.0218783608144\n",
      "misfit 0.0218783686045\n",
      "misfit 0.0218783593746\n",
      "misfit 0.0218790883424\n",
      "misfit 0.0218783599911\n",
      "misfit 0.0218789742149\n",
      "misfit 0.0218783598135\n",
      "misfit 0.0218784844379\n",
      "misfit 0.0218783594394\n",
      "misfit 0.02187835865\n",
      "misfit 0.0218783576964\n",
      "misfit 0.021878843025\n",
      "misfit 0.0218783599265\n",
      "misfit 0.0218783586883\n",
      "misfit 0.021878357406\n",
      "misfit 0.0218786226084\n",
      "misfit 0.0218790607386\n",
      "misfit 0.0218783584973\n",
      "misfit 0.0218783579276\n",
      "misfit 0.0218786088855\n",
      "misfit 0.0218783582225\n",
      "misfit 0.0218783584035\n",
      "misfit 0.0218783571339\n",
      "misfit 0.0218785898983\n",
      "misfit 0.0218784160948\n",
      "misfit 0.0218783578663\n",
      "misfit 0.0218783569588\n",
      "misfit 0.0218788751736\n",
      "misfit 0.0218785688609\n",
      "misfit 0.0218783576111\n",
      "misfit 0.0218786354416\n",
      "misfit 0.0218783575511\n",
      "misfit 0.0218783574461\n",
      "misfit 0.0218783569028\n",
      "misfit 0.0218786457096\n",
      "misfit 0.0218785257012\n",
      "misfit 0.0218783573258\n",
      "misfit 0.021878395699\n",
      "misfit 0.0218783572281\n",
      "misfit 0.0218783570266\n",
      "misfit 0.0218784811735\n",
      "misfit 0.0218783571693\n",
      "misfit 0.0218784245493\n",
      "misfit 0.021878357118\n",
      "misfit 0.0218783884029\n",
      "misfit 0.0218783570854\n",
      "misfit 0.0218784061922\n",
      "misfit 0.0218783570575\n",
      "misfit 0.0218783877128\n",
      "misfit 0.0218783570522\n",
      "misfit 0.0218783695787\n",
      "misfit 0.0218783570326\n",
      "misfit 0.0218783748065\n",
      "misfit 0.0218783570151\n",
      "misfit 0.0218783642828\n",
      "misfit 0.0218783570111\n",
      "misfit 0.0218783569035\n",
      "misfit 0.0218783570458\n",
      "misfit 0.0218783569705\n",
      "misfit 0.0218784028049\n",
      "misfit 0.0218783569786\n",
      "misfit 0.0218784014006\n",
      "misfit 0.0218783569736\n",
      "misfit 0.0218783742472\n",
      "misfit 0.021878356957\n",
      "misfit 0.02187837083\n",
      "misfit 0.0218783569529\n",
      "misfit 0.0218783667476\n",
      "misfit 0.0218783569464\n",
      "misfit 0.0218783569312\n",
      "misfit 0.0218783568944\n",
      "misfit 0.0218783652514\n",
      "misfit 0.0218783568765\n",
      "misfit 0.0218783762473\n",
      "misfit 0.0218783625889\n",
      "misfit 0.0218783569222\n",
      "misfit 0.0218783924519\n",
      "misfit 0.0218783569126\n",
      "misfit 0.0218783589959\n",
      "misfit 0.0218783569087\n",
      "misfit 0.0218783705811\n",
      "misfit 0.0218783569032\n",
      "misfit 0.0218783568785\n",
      "misfit 0.0218783568736\n",
      "misfit 0.0218783568587\n",
      "misfit 0.0218783568573\n",
      "misfit 0.0218783639342\n",
      "misfit 0.0218783568633\n",
      "misfit 0.0218783568341\n",
      "misfit 0.021878356804\n",
      "misfit 0.021878356823\n",
      "misfit 0.0218783568016\n",
      "misfit 0.0218783567651\n",
      "misfit 0.0218783567991\n",
      "misfit 0.0218783569331\n",
      "misfit 0.0218783568328\n",
      "misfit 0.0218783567484\n",
      "misfit 0.0218783566959\n",
      "misfit 0.0218783567163\n",
      "misfit 0.0218783566935\n",
      "misfit 0.0218783566421\n",
      "misfit 0.0218783566396\n",
      "misfit 0.0218783565662\n",
      "misfit 0.0218783565478\n",
      "misfit 0.02187835643\n",
      "misfit 0.0218783564413\n",
      "misfit 0.0218783563887\n",
      "misfit 0.021878356239\n",
      "misfit 0.0218783562545\n",
      "misfit 0.0218783561143\n",
      "misfit 0.0218783558566\n",
      "misfit 0.0218783559066\n",
      "misfit 0.021878355816\n",
      "misfit 0.0218783555104\n",
      "misfit 0.0218783555424\n",
      "misfit 0.0218783553651\n",
      "misfit 0.0218783549497\n",
      "misfit 0.0218783548588\n",
      "misfit 0.0218783542027\n",
      "misfit 0.0218783545045\n",
      "misfit 0.0218783540223\n",
      "misfit 0.0218783531582\n",
      "misfit 0.0218783534742\n",
      "misfit 0.0218783526573\n",
      "misfit 0.02187835138\n",
      "misfit 0.0218783517363\n",
      "misfit 0.0218783511312\n",
      "misfit 0.0218783496618\n",
      "misfit 0.0218783496507\n",
      "misfit 0.021878347729\n",
      "misfit 0.0218783480937\n",
      "misfit 0.0218783469059\n",
      "misfit 0.0218783449727\n",
      "misfit 0.02187834539\n",
      "misfit 0.0218783436776\n",
      "misfit 0.0218783416525\n",
      "misfit 0.0218783422516\n",
      "misfit 0.0218783423789\n",
      "misfit 0.0218783423149\n",
      "misfit 0.0218783419086\n",
      "misfit 0.0218783422937\n",
      "misfit 0.0218783410973\n",
      "misfit 0.0218783412498\n",
      "misfit 0.0218783405074\n",
      "misfit 0.0218783401825\n",
      "misfit 0.0218783430023\n",
      "misfit 0.0218783411977\n",
      "misfit 0.0218783414914\n",
      "misfit 0.0218783398694\n",
      "misfit 0.0218783396307\n",
      "misfit 0.0218783412997\n",
      "misfit 0.0218783402964\n",
      "misfit 0.0218783425847\n",
      "misfit 0.0218783402514\n",
      "misfit 0.0218783400257\n",
      "misfit 0.0218783411829\n",
      "misfit 0.0218783401521\n",
      "misfit 0.0218783396186\n",
      "misfit 0.0218783397654\n",
      "misfit 0.0218783404149\n",
      "misfit 0.021878339848\n",
      "misfit 0.0218783393933\n",
      "misfit 0.0218783393553\n",
      "misfit 0.0218783394208\n",
      "misfit 0.021878339621\n",
      "misfit 0.0218783388991\n",
      "misfit 0.0218783387063\n",
      "misfit 0.0218783398319\n",
      "misfit 0.0218783392316\n",
      "misfit 0.0218783395953\n",
      "misfit 0.0218783396264\n",
      "misfit 0.0218783392362\n",
      "misfit 0.0218783394065\n",
      "misfit 0.0218783392375\n",
      "misfit 0.0218783389994\n",
      "misfit 0.0218783387066\n",
      "misfit 0.0218783398706\n",
      "misfit 0.0218783389129\n",
      "misfit 0.0218783385151\n",
      "misfit 0.0218783383011\n",
      "misfit 0.0218783382875\n",
      "misfit 0.0218783382048\n",
      "misfit 0.0218783378759\n",
      "misfit 0.0218783374513\n",
      "misfit 0.0218783382754\n",
      "misfit 0.0218783385241\n",
      "misfit 0.0218783376717\n",
      "misfit 0.0218783378021\n"
     ]
    },
    {
     "name": "stdout",
     "output_type": "stream",
     "text": [
      "misfit 0.0218783375439\n",
      "misfit 0.021878337118\n",
      "misfit 0.0218783369685\n",
      "misfit 0.0218783362456\n",
      "misfit 0.0218783353026\n",
      "misfit 0.0218783370065\n",
      "misfit 0.0218783365698\n",
      "misfit 0.0218783364081\n",
      "misfit 0.0218783354483\n",
      "misfit 0.0218783366436\n",
      "misfit 0.0218783348262\n",
      "misfit 0.0218783340261\n",
      "misfit 0.0218783353048\n",
      "misfit 0.0218783333932\n",
      "misfit 0.0218783318338\n",
      "misfit 0.0218783321394\n",
      "misfit 0.0218783315167\n",
      "misfit 0.021878329792\n",
      "misfit 0.0218783300671\n",
      "misfit 0.0218783279718\n",
      "misfit 0.0218783254331\n",
      "misfit 0.0218783257063\n",
      "misfit 0.0218783244296\n",
      "misfit 0.0218783212909\n",
      "misfit 0.0218783200602\n",
      "misfit 0.0218783146079\n",
      "misfit 0.0218783155961\n",
      "misfit 0.021878311663\n",
      "misfit 0.0218783050483\n",
      "misfit 0.0218783105359\n",
      "misfit 0.0218783008306\n",
      "misfit 0.0218782907825\n",
      "misfit 0.0218782912262\n",
      "misfit 0.0218782928438\n",
      "misfit 0.0218782865784\n",
      "misfit 0.0218782829544\n",
      "misfit 0.0218782692881\n",
      "misfit 0.0218782502285\n",
      "misfit 0.0218782605229\n",
      "misfit 0.0218782509182\n",
      "misfit 0.0218782498976\n",
      "misfit 0.0218782472509\n",
      "misfit 0.0218782463339\n",
      "misfit 0.0218782670809\n",
      "misfit 0.0218782157761\n",
      "misfit 0.0218781946385\n",
      "misfit 0.0218782055753\n",
      "misfit 0.0218782229552\n",
      "misfit 0.0218782422003\n",
      "misfit 0.0218781849943\n",
      "misfit 0.0218781599904\n",
      "misfit 0.0218836172683\n",
      "misfit 0.0218782183502\n",
      "misfit 0.021878182706\n",
      "misfit 0.0218781582658\n",
      "misfit 0.0218781415401\n",
      "misfit 0.0218781301985\n",
      "misfit 0.0218785568452\n",
      "misfit 0.021878429717\n",
      "misfit 0.0218781775919\n",
      "misfit 0.0218781096371\n",
      "misfit 0.0218780757358\n",
      "misfit 0.0218780749722\n",
      "misfit 0.0218780284914\n",
      "misfit 0.0218780123189\n",
      "misfit 0.0218779297851\n",
      "misfit 0.021878013619\n",
      "misfit 0.021877915829\n",
      "misfit 0.021877816896\n",
      "misfit 0.0218778101241\n",
      "misfit 0.021877680574\n",
      "misfit 0.0218776851067\n",
      "misfit 0.0218776017038\n",
      "misfit 0.0218774130041\n",
      "misfit 0.0218774804474\n",
      "misfit 0.021877293603\n",
      "misfit 0.0218770276147\n",
      "misfit 0.0218770766504\n",
      "misfit 0.0218770328176\n",
      "misfit 0.0218766813955\n",
      "misfit 0.0218762006465\n",
      "misfit 0.0218765040626\n",
      "misfit 0.0218763341327\n",
      "misfit 0.0218761691477\n",
      "misfit 0.021875814389\n",
      "misfit 0.0218756509037\n",
      "misfit 0.0218750054118\n",
      "misfit 0.0218755028124\n",
      "misfit 0.0218756931124\n",
      "misfit 0.0218753346817\n",
      "misfit 0.0218774221973\n",
      "misfit 0.021875564384\n",
      "misfit 0.0218752128683\n",
      "misfit 0.0218748005415\n",
      "misfit 0.0218749885902\n",
      "misfit 0.021875881931\n",
      "misfit 0.0218751005928\n",
      "misfit 0.0218743745133\n",
      "misfit 0.0218741136349\n",
      "misfit 0.021874844608\n",
      "misfit 0.0218754741133\n",
      "misfit 0.0218747758003\n",
      "misfit 0.0218741396229\n",
      "misfit 0.0218739621423\n",
      "misfit 0.0218735592371\n",
      "misfit 0.0218741787954\n",
      "misfit 0.021873497283\n",
      "misfit 0.0218731159506\n",
      "misfit 0.0218727745966\n",
      "misfit 0.0218771612656\n",
      "misfit 0.021873372566\n",
      "misfit 0.0218739104719\n",
      "misfit 0.0218855621307\n",
      "misfit 0.0218734585608\n",
      "misfit 0.0218738607306\n",
      "misfit 0.0218734490955\n",
      "misfit 0.021873006493\n",
      "misfit 0.0218726456683\n",
      "misfit 0.0218792155731\n",
      "misfit 0.0218826693497\n",
      "misfit 0.0218730728545\n",
      "misfit 0.0218730818335\n",
      "misfit 0.0218727562028\n",
      "misfit 0.0218735155218\n",
      "misfit 0.0218729295128\n",
      "misfit 0.0218724927324\n",
      "misfit 0.0218816846228\n",
      "misfit 0.0218725053125\n",
      "misfit 0.0218726313111\n",
      "misfit 0.0218759481429\n",
      "misfit 0.0218725975667\n",
      "misfit 0.021872303231\n",
      "misfit 0.0218753789678\n",
      "Warning: Maximum number of function evaluations has been exceeded.\n"
     ]
    }
   ],
   "source": [
    "from scipy.optimize import minimize\n",
    "method = 'nelder-mead'\n",
    "#method = 'Powell'\n",
    "#method = 'CG'\n",
    "#method = 'Newton-CG'\n",
    "res = minimize(objective_function, MODEL_VECTOR_0, method=method, options={'xatol': 1e-10, 'disp': True, })"
   ]
  },
  {
   "cell_type": "code",
   "execution_count": 29,
   "metadata": {
    "iooxa": {
     "id": {
      "block": "aWeTVhjKw39B0UBCHlQp",
      "project": "9QvEu5l3VaIkb17PuoF9",
      "version": 1
     },
     "outputId": {
      "block": "6mdo9s14EzohEuk7gy1j",
      "project": "9QvEu5l3VaIkb17PuoF9",
      "version": 1
     }
    }
   },
   "outputs": [
    {
     "data": {
      "text/plain": [
       "array([  1.52386429e-03,  -2.37959971e-06,  -5.45657685e-04,\n",
       "        -2.57418073e-05,   8.51698777e-04])"
      ]
     },
     "execution_count": 29,
     "metadata": {},
     "output_type": "execute_result"
    }
   ],
   "source": [
    "res.x\n"
   ]
  },
  {
   "cell_type": "markdown",
   "metadata": {
    "iooxa": {
     "id": {
      "block": "ECujEtycweC7Iz2aq4tp",
      "project": "9QvEu5l3VaIkb17PuoF9",
      "version": 1
     },
     "outputId": null
    }
   },
   "source": [
    "### Looks like we are not getting back complex values here... thich could "
   ]
  },
  {
   "cell_type": "code",
   "execution_count": null,
   "metadata": {
    "iooxa": {
     "id": {
      "block": "r14gveCfLct10qh5O0D6",
      "project": "9QvEu5l3VaIkb17PuoF9",
      "version": 1
     },
     "outputId": null
    }
   },
   "outputs": [],
   "source": [
    "zeros = res.x[:N_ZEROS]\n",
    "poles = res.x[N_ZEROS:N_ZEROS+N_POLES]\n",
    "k = res.x[-1]"
   ]
  },
  {
   "cell_type": "code",
   "execution_count": null,
   "metadata": {
    "iooxa": {
     "id": {
      "block": "Ud3ooEfkBJ1mRxfIf5cy",
      "project": "9QvEu5l3VaIkb17PuoF9",
      "version": 1
     },
     "outputId": null
    }
   },
   "outputs": [],
   "source": [
    "def make_zpk_from_model_vector(model_vector):\n",
    "    zeros_real = model_vector[:2*N_ZEROS]\n",
    "    poles_real = model_vector[2*N_ZEROS:2*N_ZEROS+2*N_POLES]\n",
    "    k = model_vector[-1]\n",
    "    zeros = np.zeros(N_ZEROS, dtype=np.complex128)\n",
    "    for i_z in range(N_ZEROS):\n",
    "        zeros[i_z] = np.complex(zeros_real[0+2*i_z], zeros_real[1+2*i_z])\n",
    "    poles = np.zeros(N_POLES, dtype=np.complex128)\n",
    "    for i_p in range(N_POLES):\n",
    "        poles[i_p] = np.complex(poles_real[0+2*i_p], poles_real[1+2*i_p])\n",
    "    return zeros, poles, k\n",
    "        "
   ]
  },
  {
   "cell_type": "code",
   "execution_count": null,
   "metadata": {
    "iooxa": {
     "id": {
      "block": "E06EwpLPjFREyMBM6O5j",
      "project": "9QvEu5l3VaIkb17PuoF9",
      "version": 1
     },
     "outputId": {
      "block": "rQz3MH25CxyJ8KC8Ucdl",
      "project": "9QvEu5l3VaIkb17PuoF9",
      "version": 1
     }
    }
   },
   "outputs": [],
   "source": [
    "X_COMPLEX_RESPONSE = x_complex_response\n",
    "f = df['frequency'].to_numpy()\n",
    "W = 2*np.pi*f\n",
    "S = 1.j*W\n",
    "N_ZEROS = 1\n",
    "N_POLES = 3\n",
    "z0 = np.zeros(2*N_ZEROS)#, dtype=np.complex128)\n",
    "p0 = np.zeros(2*N_POLES)#, dtype=np.complex128)\n",
    "k0 = 1.0\n",
    "MODEL_VECTOR_0 = np.hstack((z0, p0, k0))\n",
    "print(MODEL_VECTOR_0)\n",
    "print(MODEL_VECTOR_0.dtype)\n",
    "#Now we need a function that takes the MODEL_VECTOR as input and creates a lambda function for h(s)\n",
    "\n",
    "def objective_function(model_vector):\n",
    "    zeros, poles, k = make_zpk_from_model_vector(model_vector)\n",
    "#     zeros_real = model_vector[:2*N_ZEROS]\n",
    "#     poles_real = model_vector[2*N_ZEROS:2*N_ZEROS+2*N_POLES]\n",
    "#     #print('poles_real', poles_real)\n",
    "#     k = model_vector[-1]\n",
    "#     #print('ok')\n",
    "#     zeros = np.zeros(N_ZEROS, dtype=np.complex128)\n",
    "#     for i_z in range(N_ZEROS):\n",
    "#         zeros[i_z] = np.complex(zeros_real[0+2*i_z], zeros_real[1+2*i_z])\n",
    "#     poles = np.zeros(N_POLES, dtype=np.complex128)\n",
    "#     for i_p in range(N_POLES):\n",
    "#     #    print(i_p)\n",
    "#         poles[i_p] = np.complex(poles_real[0+2*i_p], poles_real[1+2*i_p])\n",
    "        \n",
    "        \n",
    "#     #print('zeros',zeros)\n",
    "#     #print(poles)\n",
    "#     #print(k)\n",
    "    num, den = signal.zpk2tf(zeros, poles, k)\n",
    "    w, h = signal.freqs_zpk(zeros, poles, k, worN=W)\n",
    "    #print(h)\n",
    "    #print(X_COMPLEX_RESPONSE)\n",
    "    residual = X_COMPLEX_RESPONSE - h\n",
    "    #print(residual)\n",
    "    misfit = np.sqrt(np.mean(np.abs(residual**2)))\n",
    "    misfit = add_regularization_term(zeros, poles, k, misfit, aa=100.0)\n",
    "    \n",
    "    print(misfit)\n",
    "    return misfit\n",
    "\n",
    "#h = lambda:s\n",
    "objective_function(MODEL_VECTOR_0)"
   ]
  },
  {
   "cell_type": "code",
   "execution_count": null,
   "metadata": {
    "iooxa": {
     "id": {
      "block": "0riK5HfDn7a7fr7OS4gq",
      "project": "9QvEu5l3VaIkb17PuoF9",
      "version": 1
     },
     "outputId": {
      "block": "J859s8DZLv7Ean1bxCdK",
      "project": "9QvEu5l3VaIkb17PuoF9",
      "version": 1
     }
    }
   },
   "outputs": [],
   "source": [
    "from scipy.optimize import minimize\n",
    "method = 'nelder-mead'\n",
    "#method = 'Powell'\n",
    "#method = 'CG'\n",
    "#method = 'Newton-CG'\n",
    "res = minimize(objective_function, MODEL_VECTOR_0, method=method, options={'xatol': 1e-10, 'disp': True, })"
   ]
  },
  {
   "cell_type": "code",
   "execution_count": null,
   "metadata": {
    "iooxa": {
     "id": {
      "block": "W7HLCiFzACu3RrjwT4DQ",
      "project": "9QvEu5l3VaIkb17PuoF9",
      "version": 1
     },
     "outputId": {
      "block": "FdlrQ1APCQPA62rWQIr8",
      "project": "9QvEu5l3VaIkb17PuoF9",
      "version": 1
     }
    }
   },
   "outputs": [],
   "source": [
    "res.x"
   ]
  },
  {
   "cell_type": "code",
   "execution_count": null,
   "metadata": {
    "iooxa": {
     "id": {
      "block": "4xotgay5KuesNvxtZtE3",
      "project": "9QvEu5l3VaIkb17PuoF9",
      "version": 1
     },
     "outputId": {
      "block": "kPjuPlXK0QRs4DE6sEQu",
      "project": "9QvEu5l3VaIkb17PuoF9",
      "version": 1
     }
    }
   },
   "outputs": [],
   "source": [
    "zeros, poles, k = make_zpk_from_model_vector(res.x)\n",
    "print('zeros', zeros)\n",
    "print('poles', poles)\n",
    "print('k', k)"
   ]
  },
  {
   "cell_type": "code",
   "execution_count": null,
   "metadata": {
    "iooxa": {
     "id": {
      "block": "IsIGrm5lQmhQK12HLcQ2",
      "project": "9QvEu5l3VaIkb17PuoF9",
      "version": 1
     },
     "outputId": null
    }
   },
   "outputs": [],
   "source": [
    "plot_response(resp_obs=resp_obs, w_obs=w_obs, x_units='frequency', \n",
    "              zpk_pred=LEMI_LM_ZPK, w_values=w_obs)"
   ]
  },
  {
   "cell_type": "code",
   "execution_count": null,
   "metadata": {
    "iooxa": {
     "id": {
      "block": "4gCcDGRh1Kj2FkEM5h7X",
      "project": "9QvEu5l3VaIkb17PuoF9",
      "version": 1
     },
     "outputId": null
    }
   },
   "outputs": [],
   "source": [
    "NIMS_LM_ZPK.poles =np.array([-1032.9,   -18.71-15.37j,\n",
    "         -18.71+15.37j])\n",
    "NIMS_LM_ZPK.zeros[0] = -32.78\n"
   ]
  },
  {
   "cell_type": "markdown",
   "metadata": {
    "iooxa": {
     "id": {
      "block": "IDuiw1sH3Z4HcoGntsjP",
      "project": "9QvEu5l3VaIkb17PuoF9",
      "version": 1
     }
    }
   },
   "source": [
    "<h2>Non-Linear Least Squares Fitting</h2>\n",
    "\n",
    "Using nonlinear least squares with Levenberg-Marquardt step length damping to fit poles and zeros representation to look-up table of complex system response. Nominally, the target function is of the form\n",
    "\n",
    "             \n",
    "$ \n",
    "\\displaystyle zpk(s) = k \\frac{(s-z_{1})(s-z_{2})(s-z_{3})...(s-z_{m})}{(s-p_{1})(s-p_{2})(s-p_{3})...(s-p_{n})}\n",
    "$\n",
    "\n",
    "where s is complex frequency ($s = i\\omega$, where $\\omega$ is angular frequency), $k$ is the overall system gain, $z$ represents the $m$ system zeros, and $p$ represents the $n$ system poles.\n",
    "   \n",
    "HOWEVER. We're actually going to fit the look-up table with the transfer function form of the system response function:\n",
    "\n",
    "        \n",
    "$ \\displaystyle h(s) = \\frac{a_{m}s^m + a_{m-1}s^{m-1} + ... + a_{1}s^{1} + a_{0}}{b_{n}s^{n} + b_{n-1}s^{n-1} + ... + b_{1}s^{1} + b_{0}} $\n",
    "\n",
    "where $ a_{x} $ and $ b_{x} $ are the (real) coefficients on the numerator and denominator polynomials, $m$ is the number of system zeros (also the degree of the numerator polynomial), $n$ is the number of system poles (also the degree of the denominator polynomial), and $s$ is complex frequency ($s = i\\omega$, where $\\omega$ in angular frequency).\n",
    "\n",
    "This form has several benefits. First of all, because the coefficients are real, the roots of these polynomials (and therefore the poles/zeros) will occur as complex conjugate pairs, which is what we expect/require for a real linear system operating on a real time series (I think...). Having real coefficients in this polynomial form also makes the math a bit easier.\n",
    "\n",
    "Then, to find the poles/zeros, we just have to factor the numerator and denominator of this rational function. Operationally, we'll just use Python tools to do so.\n",
    "\n",
    "For the nonlinear least squares fitting, the Jacobian is fairly simple to calculate:\n",
    "\n",
    "$ \\displaystyle \\frac{\\partial h(s)}{\\partial a_{m}} = \\frac{s^{m}}{b_{n}s^{n} + b_{n-1}s^{n-1} + ... + b_{1}s^{1} + b_{0}} = \\frac{s^{m}}{d(s)} $\n",
    "\n",
    "(Other partial derivatives with respect to the numerator terms are similar.)\n",
    "\n",
    "$ \\displaystyle \\frac{\\partial h(s)}{\\partial b_{n}} = -\\frac{a_{m}s^m + a_{m-1}s^{m-1} + ... + a_{1}s^{1} + a_{0}}{(b_{n}s^{n} + b_{n-1}s^{n-1} + ... + b_{1}s^{1} + b_{0})^{2}} s^{n} = -\\frac{n(s)}{d(s)^{2}}s^{n} $\n",
    "\n",
    "(Other partial derivatives with respect to the denominator terms are similar.)\n",
    "\n",
    "Here, $n(s)$ and $d(s)$ are the numerator and denominator polynomials, respectively.\n",
    "\n",
    "In the matrices here, all the numerator terms will be listed first, then all the denominator terms."
   ]
  },
  {
   "cell_type": "markdown",
   "metadata": {
    "iooxa": {
     "id": {
      "block": "AxHhTcATbdmFVX0ZwNWi",
      "project": "9QvEu5l3VaIkb17PuoF9",
      "version": 1
     }
    }
   },
   "source": [
    "**Nonlinear LM fit to NIMS B response**"
   ]
  },
  {
   "cell_type": "code",
   "execution_count": null,
   "metadata": {
    "iooxa": {
     "id": {
      "block": "LyWEVjNpYXRp7EWGsh9t",
      "project": "9QvEu5l3VaIkb17PuoF9",
      "version": 2
     },
     "outputId": {
      "block": "fE3FZmrH4IvImzNhEBum",
      "project": "9QvEu5l3VaIkb17PuoF9",
      "version": 2
     }
    }
   },
   "outputs": [],
   "source": [
    "print(\"PARAMETERIZATION: 0 zeros, 3 poles\")\n",
    "test_period = np.logspace(-1, 5, num=100)\n",
    "test_w = 2. * np.pi / test_period\n",
    "NIMS_w, NIMS_Bresp = signal.freqresp(NIMS_Magnetic_3PoleLowpass, \n",
    "                                     w=test_w)   # w is in rad/sec\n",
    "NIMS_LM_ZPK = Fit_ZerosPolesGain_toFrequencyResponse_LM(NIMS_w, \n",
    "                                                        NIMS_Bresp, \n",
    "                                                        0, 3)\n",
    "plot_response(zpk_obs=NIMS_Magnetic_3PoleLowpass, zpk_pred=NIMS_LM_ZPK, \n",
    "              w_values=test_w)"
   ]
  },
  {
   "cell_type": "markdown",
   "metadata": {
    "iooxa": {
     "id": {
      "block": "BdK9VWp3uWtygIxKOlSh",
      "project": "9QvEu5l3VaIkb17PuoF9",
      "version": 1
     }
    }
   },
   "source": [
    "Ok, so the non-linear least squares approach isn't working so well. Apparently there's no guarantee that the model updates will be purely real (as I had hoped), and it's not converging very well. This could be because I used a bad initial guess, or because I'm doing something wrong. But let's try something else...\n",
    "\n",
    "20210208: KNK says: maybe, but we could add some constriains to the objective function here "
   ]
  },
  {
   "cell_type": "markdown",
   "metadata": {
    "iooxa": {
     "id": {
      "block": "U4CvQRFYUpRePX0oMwho",
      "project": "9QvEu5l3VaIkb17PuoF9",
      "version": 1
     }
    }
   },
   "source": [
    "<h2>Linear Least Squares</h2>\n",
    "\n",
    "We can do some equation manipulation to turn this into a linear least squares problem. Again starting with the transfer function representation of the response function:\n",
    "\n",
    "$ \\displaystyle h(s) = \\frac{a_{m}s^m + a_{m-1}s^{m-1} + ... + a_{1}s^{1} + a_{0}}{b_{n}s^{n} + b_{n-1}s^{n-1} + ... + b_{1}s^{1} + b_{0}} = \\frac{n(s)}{d(s)} $\n",
    "\n",
    "where $ a_{x} $ and $ b_{x} $ are the (real) coefficients on the numerator and denominator polynomials, $m$ is the number of system zeros (also the degree of the numerator polynomial), $n$ is the number of system poles (also the degree of the denominator polynomial), and $s$ is complex frequency ($s = i\\omega$, where $\\omega$ in angular frequency).\n",
    "\n",
    "Rearranging this equation...\n",
    "\n",
    "$ d(s) \\cdot h(s) = n(s) $\n",
    "\n",
    "$ \\displaystyle (b_{n}s^{n} + b_{n-1}s^{n-1} + ... + b_{1}s^{1} + b_{0}) \\cdot h(s) = a_{m}s^m + a_{m-1}s^{m-1} + ... + a_{1}s^{1} + a_{0} $\n",
    "\n",
    "If we require $ b_{0} = 1 $, then we can get this into a convenient linear least squares form. (Note that $ b_{0} = 1 $ just means that all the other polynomial coefficients are effectively normalized by whatever $ b_{0} $ would've been before.)\n",
    "\n",
    "$ \\displaystyle b_{n}s^{n} \\cdot h(s) + b_{n-1}s^{n-1} \\cdot h(s) + ... + b_{1}s^{1} \\cdot h(s) + 1 \\cdot h(s) = a_{m}s^m + a_{m-1}s^{m-1} + ... + a_{1}s^{1} + a_{0} $\n",
    "\n",
    "$ \\displaystyle h(s) = a_{m}s^m + a_{m-1}s^{m-1} + ... + a_{1}s^{1} + a_{0} - b_{n}s^{n} \\cdot h(s) - b_{n-1}s^{n-1} \\cdot h(s) - ... - b_{1}s^{1} \\cdot h(s) $\n",
    "\n",
    "So now we can have the complex response values $ h(s) $ in the RHS vector $ \\mathbf d $; the coefficients $ a_{m} $ and $ b_{m} $ as the model parameter $ \\mathbf m $; $ s^{m} $ and $ - s^{n} \\cdot h(s) $ in the design matrix $ \\mathbf G $.\n",
    "\n",
    "$ \\displaystyle \\mathbf d = \\mathbf G \\mathbf m $\n",
    "\n",
    "$ \\begin{bmatrix} h(s_{0}) \\\\ h(s_{1}) \\\\ \\vdots \\\\ h(s_{k}) \\end{bmatrix} = \n",
    "\\begin{bmatrix} \n",
    "s_{0}^{m} & s_{0}^{m-1} & \\dots & s_{0}^{1} & 1 & -s_{0}^{n} \\cdot h(s_{0}) & -s_{0}^{n-1} \\cdot h(s_{0}) & \\dots & -s_{0}^{1} \\cdot h(s_{0}) \\\\ \n",
    "s_{1}^{m} & s_{1}^{m-1} & \\dots & s_{1}^{1} & 1 & -s_{1}^{n} \\cdot h(s_{1}) & -s_{1}^{n-1} \\cdot h(s_{1}) & \\dots & -s_{1}^{1} \\cdot h(s_{1})\\\\ \n",
    " & & & & & \\vdots & & & \\\\ \n",
    "s_{k}^{m} & s_{k}^{m-1} & \\dots & s_{k}^{1} & 1 & -s_{k}^{n} \\cdot h(s_{k}) & -s_{k}^{n-1} \\cdot h(s_{k}) & \\dots & -s_{k}^{1} \\cdot h(s_{k}) \n",
    "\\end{bmatrix} \n",
    "\\begin{bmatrix} a_{m} \\\\ a_{m-1} \\\\ \\vdots \\\\ a_{1} \\\\ a_{0} \\\\ b_{n} \\\\ b_{n-1} \\\\ \\vdots \\\\ b_{1} \\end{bmatrix} $\n",
    "\n",
    "This formulation of a linear least-squares problem is sometimes called the \"error-equation\" method or the Levy Method in the signal processing literature. However, this form is suboptimal, as the denominator coefficients $ b_{n} $ are effectively weighted by the response values $ h(s) $. A simple method to deal with this bias is to iteratively weight (divide) the linear least squares problem by the denominator term $ d(s_{k}) $ from the previous iteration until convergence. This is called Sanathanan-Koerner iteration."
   ]
  }
 ],
 "metadata": {
  "iooxa": {
   "id": {
    "block": "rnlbBlX9Cs9jbOHWxwWF",
    "project": "9QvEu5l3VaIkb17PuoF9",
    "version": 2
   }
  },
  "kernelspec": {
   "display_name": "Python (aurora)",
   "language": "python",
   "name": "aurora"
  },
  "language_info": {
   "codemirror_mode": {
    "name": "ipython",
    "version": 3
   },
   "file_extension": ".py",
   "mimetype": "text/x-python",
   "name": "python",
   "nbconvert_exporter": "python",
   "pygments_lexer": "ipython3",
   "version": "3.6.12"
  }
 },
 "nbformat": 4,
 "nbformat_minor": 4
}
