{
 "cells": [
  {
   "cell_type": "markdown",
   "metadata": {
    "iooxa": {
     "id": {
      "block": "wZjbfFElns2NeBB0DgIV",
      "project": "9QvEu5l3VaIkb17PuoF9",
      "version": 2
     }
    }
   },
   "source": [
    "<h1>Poles/Zeros/Gain from Look-Up Tables (Prototyping)</h1>"
   ]
  },
  {
   "cell_type": "markdown",
   "metadata": {
    "iooxa": {
     "id": {
      "block": "IcmV2G9XYDKtyb6F9n0u",
      "project": "9QvEu5l3VaIkb17PuoF9",
      "version": 1
     }
    }
   },
   "source": [
    "## Problem Statement"
   ]
  },
  {
   "cell_type": "markdown",
   "metadata": {
    "iooxa": {
     "id": {
      "block": "aR2YYsEQ5zZjbuLGT5Vc",
      "project": "9QvEu5l3VaIkb17PuoF9",
      "version": 1
     }
    }
   },
   "source": [
    "The IRIS metadata archiving process exhibits a strong preference for pole-zero ('zpk') representations of analog filters.  Because many MT instruments are characterized by  calibrations in the form of frequency sweeps the manufacturers calibrations are often provided in terms of tables of frequency, with amplitude and phase responses ('fap'). "
   ]
  },
  {
   "cell_type": "markdown",
   "metadata": {
    "iooxa": {
     "id": {
      "block": "cJXMEOrTgPte0NTJBGnD",
      "project": "9QvEu5l3VaIkb17PuoF9",
      "version": 1
     }
    }
   },
   "source": [
    "Thus we are faced with the problem of expressing a generic _fap_ instrument resposne in the _zpk_ format."
   ]
  },
  {
   "cell_type": "markdown",
   "metadata": {
    "iooxa": {
     "id": {
      "block": "JgqQKsfRGfeGp20DVR9v",
      "project": "9QvEu5l3VaIkb17PuoF9",
      "version": 1
     }
    }
   },
   "source": [
    "## Inverse Problem Setup\n",
    "\n",
    "$\\bf{d}$: The \"data\" in the the 'fap' table.  This is simply a set of $N$ ordered pairs, $\\{(f_1, x_1), (f_2, x_2), ... (f_N, x_N)\\}$ where $f_i \\in \\mathbb{R}^+$ and $x_i \\in \\mathbb{C}$\n",
    "\n",
    "$\\bf{G}$: The function relating the data and the model can take on several parameterizations.  One of the parameterizations is as a ratio of real valued polynomials:\n",
    "\n",
    "$ \\displaystyle h(s) = \\frac{a_{m}s^m + a_{m-1}s^{m-1} + ... + a_{1}s^{1} + a_{0}}{b_{n}s^{n} + b_{n-1}s^{n-1} + ... + b_{1}s^{1} + b_{0}} $\n",
    "\n",
    "Where the Laplace variable _s_  = *j* $\\omega$\n",
    "\n",
    "\n",
    "$\\bf{m}$:  Using the above parameterization $\\bf{m}$ would be the set of $m + n + 2$ coefficients ${a_0, a_1, ...a_m, b_0, b_1, ... b_n}$ with $a_i, b_i \\in \\mathbb{R}$\n",
    "\n",
    "<br>\n",
    "<br>\n",
    "\n",
    "The coefficients in the numerator and denominator polynomials in the Laplace domain representation of the filter are real. They typically correspond to values of circuit parameters resistance, capacitance, inductance, etc. in analog EE applications. This means that these polynomials factor completely over the complex plane and moreover, the roots are either real or occur in complex-conjugate pairs.\n",
    "<br>\n",
    "<br>\n",
    "\n",
    "Factoring $h(s)$ on top and bottom yields the form:\n",
    "\n",
    "$ \\displaystyle h (s) = k  \\frac{(s-z_1)(s-z_2)...(s-z_m) }{(s-p_1)(s-p_2)...(s-p_n)} $\n",
    "\n",
    "There are well defined transformations between these representations and they are available through _scipy.signal.tf2zpk_ or _zpk2tf_.\n"
   ]
  },
  {
   "cell_type": "markdown",
   "metadata": {
    "iooxa": {
     "id": {
      "block": "csdJWj6RWDRVK8FzKLZe",
      "project": "9QvEu5l3VaIkb17PuoF9",
      "version": 1
     }
    }
   },
   "source": [
    "### Recent Activity in PZ-fitting"
   ]
  },
  {
   "cell_type": "markdown",
   "metadata": {
    "iooxa": {
     "id": {
      "block": "8aXFO6gSp68x8vYyV5D1",
      "project": "9QvEu5l3VaIkb17PuoF9",
      "version": 1
     }
    }
   },
   "source": [
    "Ben Murphy tried a variety of methods to solve this problem but invariably wound up encountering poles and zeros (roots) that did not obey the principle of complex-conjugate roots, and  sometimes poles on the right hand side of the plane, and or k values that were complex-valued.  The complex k values are particularl concerning because IRIS does not provide support for complex-valued k -- it is just one double-precision number.  \n",
    "\n",
    "The reason for these issues deserves some analysis but at a high level seems to be due to parameterizations that ultimately wound up searching complex-valued spaces for soltuions.\n",
    "\n",
    "Karl tried some variants on Ben's methods which involved some regularization functions that penalized non-conjugate root pairs, and imaginary parts of k, but these never matured so their value is questionable.\n",
    "\n",
    "It seems like we should be able to use a numeric method to solve in the real valued form (even though the evaluation of the TF is Complex, the coefficients are real) and then extract the zpk afterwards ... no?\n",
    "\n"
   ]
  },
  {
   "cell_type": "code",
   "execution_count": null,
   "metadata": {
    "iooxa": {
     "id": {
      "block": "MiTVLQNKhpYOl8ps3M26",
      "project": "9QvEu5l3VaIkb17PuoF9",
      "version": 1
     },
     "outputId": {
      "block": "lr7V1bULRpSmwtjWVVMm",
      "project": "9QvEu5l3VaIkb17PuoF9",
      "version": 1
     }
    }
   },
   "outputs": [],
   "source": [
    "from mth5_test_data.util import MTH5_TEST_DATA_DIR\n",
    "print(MTH5_TEST_DATA_DIR)"
   ]
  },
  {
   "cell_type": "code",
   "execution_count": null,
   "metadata": {
    "iooxa": {
     "id": {
      "block": "6kjQ0NzLCzK6ccl3H4Um",
      "project": "9QvEu5l3VaIkb17PuoF9",
      "version": 5
     },
     "outputId": {
      "block": "zgZSzsBgBy5eCiBevn6i",
      "project": "9QvEu5l3VaIkb17PuoF9",
      "version": 4
     }
    }
   },
   "outputs": [],
   "source": [
    "import matplotlib.pyplot as plt\n",
    "import numpy as np\n",
    "import os\n",
    "import pandas as pd\n",
    "\n",
    "from matplotlib.gridspec import GridSpec\n",
    "#from plot_helpers import plot_response\n",
    "from scipy import signal\n",
    "\n",
    "from mt_metadata.timeseries.filters.plotting_helpers import plot_response\n",
    "from iris_mt_scratch.sandbox.plot_helpers import plot_complex_response\n",
    "\n",
    "from regularization_function_development import add_regularization_term \n",
    "from regularization_function_development import add_regularization_term2\n",
    "from regularization_function_development import get_pz_regularization\n",
    "from tf_helpers import Fit_ZerosPolesGain_toFrequencyResponse_LLSQ\n",
    "from vectfit_python import vectfit\n",
    "from zen import zen_response\n",
    "\n",
    "%matplotlib inline\n"
   ]
  },
  {
   "cell_type": "code",
   "execution_count": null,
   "metadata": {
    "iooxa": {
     "id": {
      "block": "7HrEu4EUdIuvjjPN60Eg",
      "project": "9QvEu5l3VaIkb17PuoF9",
      "version": 2
     },
     "outputId": null
    }
   },
   "outputs": [],
   "source": [
    "DEG2RAD = np.pi/180"
   ]
  },
  {
   "cell_type": "markdown",
   "metadata": {
    "iooxa": {
     "id": {
      "block": "EPENQCwgb0pficBhQA7u",
      "project": "9QvEu5l3VaIkb17PuoF9",
      "version": 1
     }
    }
   },
   "source": [
    "## Load the data from data repo"
   ]
  },
  {
   "cell_type": "code",
   "execution_count": null,
   "metadata": {
    "iooxa": {
     "id": {
      "block": "XFfs0mEX1LCLh8T5CMdQ",
      "project": "9QvEu5l3VaIkb17PuoF9",
      "version": 4
     },
     "outputId": {
      "block": "lqAilCibNH8rvRKApX2k",
      "project": "9QvEu5l3VaIkb17PuoF9",
      "version": 3
     }
    }
   },
   "outputs": [],
   "source": [
    "calibration_data_dir = os.path.join(MTH5_TEST_DATA_DIR, 'calibration_files', '20210226', 'LEMI_Calibration', 'Lemi-039_N131BxByBz')\n",
    "calibration_file_path = os.path.join(calibration_data_dir, 'Lemi-039_N131.cal' )\n",
    "print(calibration_file_path)\n",
    "df = pd.read_csv(calibration_file_path, skiprows=3, delimiter='\\t')\n",
    "column_labels = ['frequency', 'amplitude_x', 'phase_x', 'amplitude_y', 'phase_y', 'amplitude_z', 'phase_z']\n",
    "columns_map = dict(zip(df.columns, column_labels))\n",
    "df = df.rename(columns=columns_map)\n",
    "print(df.columns)\n"
   ]
  },
  {
   "cell_type": "markdown",
   "metadata": {
    "iooxa": {
     "id": {
      "block": "0I4jokmx8NS7jnT4myQh",
      "project": "9QvEu5l3VaIkb17PuoF9",
      "version": 1
     }
    }
   },
   "source": [
    "## Preliminary Response Curve"
   ]
  },
  {
   "cell_type": "code",
   "execution_count": null,
   "metadata": {
    "iooxa": {
     "id": {
      "block": "KpBmSTg1ZSX5JLhOAeF5",
      "project": "9QvEu5l3VaIkb17PuoF9",
      "version": 5
     },
     "outputId": {
      "block": "qQL1SMAZiWXJ3osT2nzz",
      "project": "9QvEu5l3VaIkb17PuoF9",
      "version": 5
     }
    }
   },
   "outputs": [],
   "source": [
    "x_phase_radians = DEG2RAD*df['phase_x']\n",
    "x_phasor = np.exp(1.J*x_phase_radians) #(np.cos( x_phase_radians)+ 1.j*np.sin(x_phase_radians))\n",
    "x_complex_response = df['amplitude_x'] * x_phasor\n",
    "X_COMPLEX_RESPONSE = x_complex_response #make it global for availabilty in objective functions\n",
    "frequencies = df['frequency'].to_numpy()\n",
    "\n",
    "plot_complex_response(df['frequency'], x_complex_response)"
   ]
  },
  {
   "cell_type": "markdown",
   "metadata": {
    "iooxa": {
     "id": {
      "block": "sFp1YrxMdXCZHTDYWy9G",
      "project": "9QvEu5l3VaIkb17PuoF9",
      "version": 1
     }
    }
   },
   "source": [
    "## Estimate the response amplitude in the pass band"
   ]
  },
  {
   "cell_type": "code",
   "execution_count": null,
   "metadata": {
    "iooxa": {
     "id": {
      "block": "f69iqNaSl8znJMWnh2OM",
      "project": "9QvEu5l3VaIkb17PuoF9",
      "version": 1
     },
     "outputId": {
      "block": "bHBaz2xL92pNcTN6SFuh",
      "project": "9QvEu5l3VaIkb17PuoF9",
      "version": 1
     }
    }
   },
   "outputs": [],
   "source": [
    "nominal_passband_response_amplitude = df['amplitude_x'].iloc[10].mean()\n",
    "print('nominal_passband_response_amplitude', nominal_passband_response_amplitude)"
   ]
  },
  {
   "cell_type": "markdown",
   "metadata": {
    "iooxa": {
     "id": {
      "block": "7F2Sp6G3o7XAvukRM987",
      "project": "9QvEu5l3VaIkb17PuoF9",
      "version": 1
     }
    }
   },
   "source": [
    "## Express in units of deciBels and plot on semilog"
   ]
  },
  {
   "cell_type": "code",
   "execution_count": null,
   "metadata": {
    "iooxa": {
     "id": {
      "block": "FHvzRFyO1xw76LTFiRJF",
      "project": "9QvEu5l3VaIkb17PuoF9",
      "version": 1
     },
     "outputId": null
    }
   },
   "outputs": [],
   "source": [
    "amplitude_in_db = 20*np.log10(df['amplitude_x']/nominal_passband_response_amplitude)"
   ]
  },
  {
   "cell_type": "code",
   "execution_count": null,
   "metadata": {
    "iooxa": {
     "id": {
      "block": "SwwkX3YWoLAzk1ZZHtk6",
      "project": "9QvEu5l3VaIkb17PuoF9",
      "version": 3
     },
     "outputId": {
      "block": "53l9ayq4YPvFfJwPkYnB",
      "project": "9QvEu5l3VaIkb17PuoF9",
      "version": 3
     }
    }
   },
   "outputs": [],
   "source": [
    "plt.semilogx(df['frequency'], amplitude_in_db)\n",
    "plt.semilogx(df['frequency'], amplitude_in_db, 'r*')\n",
    "plt.grid(which='both')\n",
    "plt.title('Amplitude Response of Instrument in dB')\n"
   ]
  },
  {
   "cell_type": "markdown",
   "metadata": {
    "iooxa": {
     "id": {
      "block": "iMRaL1KaVep5fwsN0f1L",
      "project": "9QvEu5l3VaIkb17PuoF9",
      "version": 2
     }
    }
   },
   "source": [
    "## Note that the decay is log-linear after about 5Hz"
   ]
  },
  {
   "cell_type": "code",
   "execution_count": null,
   "metadata": {
    "iooxa": {
     "id": {
      "block": "1LERG0EhyXywvXrbAVLZ",
      "project": "9QvEu5l3VaIkb17PuoF9",
      "version": 3
     },
     "outputId": {
      "block": "6J6syNcfv52jHeTHbkjE",
      "project": "9QvEu5l3VaIkb17PuoF9",
      "version": 2
     }
    }
   },
   "outputs": [],
   "source": [
    "#The last 13 points are approximately a straight line on the log plot\n",
    "n_asymptotic_log_linear = 13\n",
    "frq_line = df['frequency'][-n_asymptotic_log_linear:]\n",
    "ampl_line = df['amplitude_x'][-n_asymptotic_log_linear:]\n",
    "db_line = amplitude_in_db[-n_asymptotic_log_linear:]\n",
    "log_f = np.array(np.log10(frq_line))\n",
    "log_a = np.array(np.log10(ampl_line))\n",
    "db = np.array(db_line)\n",
    "db_per_decade = (db[-1]-db[0]) / (log_f[-1]-log_f[0])\n",
    "\n",
    "plt.plot(log_f, db_line)\n",
    "plt.xlabel('log$_{10}$ frequency')\n",
    "plt.ylabel('dB')\n",
    "plt.title(f\"db_per_decade: {db_per_decade:.2f}\")\n",
    "plt.show()"
   ]
  },
  {
   "cell_type": "markdown",
   "metadata": {
    "iooxa": {
     "id": {
      "block": "BiLM7llCkBPZyePBjqjk",
      "project": "9QvEu5l3VaIkb17PuoF9",
      "version": 1
     }
    }
   },
   "source": [
    "### looks like approximately -20dB/decade, which theoretically corresponds to a single pole.  We obtain a decent fit with one pole, but a better fit with 3poles and one zero.\n",
    "\n",
    "If we want to optimize we need to add constraints however.  In particular, a regulariization that forces 1: complex poles to be conjugates, and the 'odd' poles to be pure real.  This means modifying the LLSQ process."
   ]
  },
  {
   "cell_type": "markdown",
   "metadata": {
    "iooxa": {
     "id": {
      "block": "vq5eMHvyXI4SftEGR2L4",
      "project": "9QvEu5l3VaIkb17PuoF9",
      "version": 1
     }
    }
   },
   "source": [
    "## Here is the solutions from Ben's ipynb using Linear Least Squares"
   ]
  },
  {
   "cell_type": "code",
   "execution_count": null,
   "metadata": {
    "iooxa": {
     "id": {
      "block": "uhGMTyln2lJl7CJ2swJn",
      "project": "9QvEu5l3VaIkb17PuoF9",
      "version": 4
     },
     "outputId": {
      "block": "TE6USowdOu7Mhg055bTv",
      "project": "9QvEu5l3VaIkb17PuoF9",
      "version": 4
     }
    }
   },
   "outputs": [],
   "source": [
    "n_zeros = 2; n_poles = 3;\n",
    "n_zeros = 1; n_poles = 3;\n",
    "#n_zeros = 0; n_poles = 1;\n",
    "n_zeros = 2; n_poles = 3;\n",
    "print(\"PARAMETERIZATION: {} zeros, {} poles\".format(n_zeros, n_poles))\n",
    "w_obs = 2*np.pi*frequencies\n",
    "resp_obs =  x_complex_response#df['amplitude_x']\n",
    "LEMI_LM_ZPK = Fit_ZerosPolesGain_toFrequencyResponse_LLSQ(w_obs, \n",
    "                                                        resp_obs, \n",
    "                                                        n_zeros, n_poles, useSKiter=False, \n",
    "                                                         regularize=False)\n",
    "print(LEMI_LM_ZPK)\n",
    "\n",
    "plot_response(resp_obs=resp_obs, w_obs=w_obs, x_units='frequency', \n",
    "              zpk_pred=LEMI_LM_ZPK, w_values=w_obs)\n"
   ]
  },
  {
   "cell_type": "code",
   "execution_count": null,
   "metadata": {},
   "outputs": [],
   "source": [
    "LEMI_LM_ZPK.gain = np.real(LEMI_LM_ZPK.gain)\n",
    "print(LEMI_LM_ZPK.gain)\n",
    "plot_response(resp_obs=resp_obs, w_obs=w_obs, x_units='frequency', \n",
    "              zpk_pred=LEMI_LM_ZPK, w_values=w_obs)"
   ]
  },
  {
   "cell_type": "markdown",
   "metadata": {
    "iooxa": {
     "id": {
      "block": "7kqE6CWjyFKADrAYPylO",
      "project": "9QvEu5l3VaIkb17PuoF9",
      "version": 1
     }
    }
   },
   "source": [
    "Note that the fit here is \"very good\" (quantification needed in terms of % deviation from laboratory measurements and a residuals curve).  However to conjugate pairs are violated and k is complex values. \n",
    "\n",
    "**N.B. we want to achieve < 3% deviation from laboratory data** -JP"
   ]
  },
  {
   "cell_type": "markdown",
   "metadata": {
    "iooxa": {
     "id": {
      "block": "bF7gmhzXeEnipayuKJZh",
      "project": "9QvEu5l3VaIkb17PuoF9",
      "version": 2
     }
    }
   },
   "source": [
    "### Lets try a purely numerical approach using scipy optimize and some regularization that penalizes deviations from the fundamental theorem of algebra solutions"
   ]
  },
  {
   "cell_type": "markdown",
   "metadata": {
    "iooxa": {
     "id": {
      "block": "4B3tCiJ8dO6RU9G8jmwd",
      "project": "9QvEu5l3VaIkb17PuoF9",
      "version": 1
     }
    }
   },
   "source": [
    "## Here we use pairs of real numbers to represent the poles and zeros\n",
    "\n",
    "This method didn't work well, so skip it\n"
   ]
  },
  {
   "cell_type": "code",
   "execution_count": null,
   "metadata": {
    "iooxa": {
     "id": {
      "block": "Ud3ooEfkBJ1mRxfIf5cy",
      "project": "9QvEu5l3VaIkb17PuoF9",
      "version": 2
     },
     "outputId": null
    }
   },
   "outputs": [],
   "source": [
    "def make_zpk_from_model_vector(model_vector):\n",
    "    \"\"\"\n",
    "    \"\"\"\n",
    "    zeros_real = model_vector[:2*N_ZEROS]\n",
    "    poles_real = model_vector[2*N_ZEROS:2*N_ZEROS+2*N_POLES]\n",
    "    k = model_vector[-1]\n",
    "    zeros = np.zeros(N_ZEROS, dtype=np.complex128)\n",
    "    for i_z in range(N_ZEROS):\n",
    "        zeros[i_z] = np.complex(zeros_real[0+2*i_z], zeros_real[1+2*i_z])\n",
    "    poles = np.zeros(N_POLES, dtype=np.complex128)\n",
    "    for i_p in range(N_POLES):\n",
    "        poles[i_p] = np.complex(poles_real[0+2*i_p], poles_real[1+2*i_p])\n",
    "    return zeros, poles, k\n",
    "        "
   ]
  },
  {
   "cell_type": "code",
   "execution_count": null,
   "metadata": {
    "iooxa": {
     "id": {
      "block": "E06EwpLPjFREyMBM6O5j",
      "project": "9QvEu5l3VaIkb17PuoF9",
      "version": 4
     },
     "outputId": {
      "block": "rQz3MH25CxyJ8KC8Ucdl",
      "project": "9QvEu5l3VaIkb17PuoF9",
      "version": 3
     }
    }
   },
   "outputs": [],
   "source": [
    "W = 2*np.pi*frequencies\n",
    "S = 1.j*W\n",
    "N_ZEROS = 1; N_POLES = 3\n",
    "#N_ZEROS = 0; N_POLES = 1\n",
    "z0 = np.zeros(2*N_ZEROS)#, dtype=np.complex128)\n",
    "p0 = np.zeros(2*N_POLES)#, dtype=np.complex128)\n",
    "k0 = 1.0\n",
    "MODEL_VECTOR_0 = np.hstack((z0, p0, k0))\n",
    "print(MODEL_VECTOR_0)\n",
    "print(MODEL_VECTOR_0.dtype)\n",
    "#Now we need a function that takes the MODEL_VECTOR as input and creates a lambda function for h(s)\n",
    "\n",
    "def objective_function(model_vector, verbose=True):\n",
    "    zeros, poles, k = make_zpk_from_model_vector(model_vector)\n",
    "    #num, den = signal.zpk2tf(zeros, poles, k)\n",
    "    w, h = signal.freqs_zpk(zeros, poles, k, worN=W)\n",
    "    residual = X_COMPLEX_RESPONSE - h\n",
    "    misfit = np.sqrt(np.mean(np.abs(residual**2)))\n",
    "    misfit = add_regularization_term2(zeros, poles, k, misfit, aa=1e-5)\n",
    "    if verbose:\n",
    "        print(misfit)\n",
    "    return misfit\n",
    "\n",
    "#h = lambda:s\n",
    "objective_function(MODEL_VECTOR_0)"
   ]
  },
  {
   "cell_type": "code",
   "execution_count": null,
   "metadata": {
    "iooxa": {
     "id": {
      "block": "0riK5HfDn7a7fr7OS4gq",
      "project": "9QvEu5l3VaIkb17PuoF9",
      "version": 3
     },
     "outputId": {
      "block": "J859s8DZLv7Ean1bxCdK",
      "project": "9QvEu5l3VaIkb17PuoF9",
      "version": 3
     }
    }
   },
   "outputs": [],
   "source": [
    "from scipy.optimize import minimize\n",
    "method = 'nelder-mead'\n",
    "#method = 'Powell'\n",
    "#method = 'CG'\n",
    "#method = 'Newton-CG'\n",
    "res = minimize(objective_function, MODEL_VECTOR_0, method=method, options={'xatol': 1e-10, 'disp': True, })"
   ]
  },
  {
   "cell_type": "code",
   "execution_count": null,
   "metadata": {
    "iooxa": {
     "id": {
      "block": "W7HLCiFzACu3RrjwT4DQ",
      "project": "9QvEu5l3VaIkb17PuoF9",
      "version": 3
     },
     "outputId": {
      "block": "FdlrQ1APCQPA62rWQIr8",
      "project": "9QvEu5l3VaIkb17PuoF9",
      "version": 3
     }
    }
   },
   "outputs": [],
   "source": [
    "res.x"
   ]
  },
  {
   "cell_type": "code",
   "execution_count": null,
   "metadata": {
    "iooxa": {
     "id": {
      "block": "4xotgay5KuesNvxtZtE3",
      "project": "9QvEu5l3VaIkb17PuoF9",
      "version": 3
     },
     "outputId": {
      "block": "kPjuPlXK0QRs4DE6sEQu",
      "project": "9QvEu5l3VaIkb17PuoF9",
      "version": 3
     }
    }
   },
   "outputs": [],
   "source": [
    "zeros, poles, k = make_zpk_from_model_vector(res.x)\n",
    "print('zeros', zeros)\n",
    "print('poles', poles)\n",
    "print('k', k)\n",
    "tf = signal.zpk2tf(zeros, poles, k)\n",
    "\n",
    "print(tf)\n",
    "ZPK = signal.TransferFunction(tf[0], tf[1]).to_zpk()"
   ]
  },
  {
   "cell_type": "code",
   "execution_count": null,
   "metadata": {
    "iooxa": {
     "id": {
      "block": "IsIGrm5lQmhQK12HLcQ2",
      "project": "9QvEu5l3VaIkb17PuoF9",
      "version": 3
     },
     "outputId": {
      "block": "8h61mh1zGNbXsUHb8Rq4",
      "project": "9QvEu5l3VaIkb17PuoF9",
      "version": 2
     }
    }
   },
   "outputs": [],
   "source": [
    "plot_response(resp_obs=resp_obs, w_obs=w_obs, x_units='frequency', \n",
    "              zpk_pred=ZPK, w_values=w_obs)"
   ]
  },
  {
   "cell_type": "markdown",
   "metadata": {
    "iooxa": {
     "id": {
      "block": "88fq7W6aRhulZBSw7DZt",
      "project": "9QvEu5l3VaIkb17PuoF9",
      "version": 1
     }
    }
   },
   "source": [
    "## Something is wrong with the formulation here ... "
   ]
  },
  {
   "cell_type": "markdown",
   "metadata": {
    "iooxa": {
     "id": {
      "block": "ft9Hn7t2q8R073mCHdNL",
      "project": "9QvEu5l3VaIkb17PuoF9",
      "version": 1
     }
    }
   },
   "source": [
    "## Well, that sucks, how about fitting the tf directly\n"
   ]
  },
  {
   "cell_type": "code",
   "execution_count": null,
   "metadata": {
    "iooxa": {
     "id": {
      "block": "dyIbd0IDaCYgbf6HM7CR",
      "project": "9QvEu5l3VaIkb17PuoF9",
      "version": 2
     },
     "outputId": {
      "block": "dA9fv8ue8kyJi2AthS0R",
      "project": "9QvEu5l3VaIkb17PuoF9",
      "version": 2
     }
    }
   },
   "outputs": [],
   "source": [
    "W = 2*np.pi*frequencies\n",
    "\n",
    "N_ZEROS = 0; N_POLES = 1\n",
    "N_ZEROS = 1; N_POLES = 2#Very Good when seeded with 1\n",
    "#N_ZEROS = 2; N_POLES = 3#Very Good when seeded with 3\n",
    "#N_ZEROS = 3; N_POLES = 4#not so good\n",
    "np.random.seed(1)\n",
    "b0 = np.random.rand(N_ZEROS+1)\n",
    "a0 = np.random.rand(N_POLES+1)\n",
    "\n",
    "MODEL_VECTOR_0 = np.hstack((b0, a0))\n",
    "#print('MODEL_VECTOR_0',MODEL_VECTOR_0)\n",
    "\n",
    "\n",
    "def objective_function(model_vector, verbose=False):\n",
    "    #unpack the model vector\n",
    "    bb = model_vector[:N_ZEROS+1]\n",
    "    aa = model_vector[N_ZEROS+1:]\n",
    "    \n",
    "    if verbose:\n",
    "        print('numerator ', bb, N_ZEROS)\n",
    "        print('denominator', aa, N_POLES)\n",
    "    w, h = signal.freqs(bb, aa, worN=W)\n",
    "    residual = X_COMPLEX_RESPONSE - h\n",
    "    #print(residual)\n",
    "    misfit = np.sqrt(np.mean(np.abs(residual**2)))\n",
    "#    misfit = add_regularization_term(zeros, poles, k, misfit, aa=0.1)\n",
    "    if verbose:\n",
    "        print('misfit',misfit)\n",
    "    return misfit\n",
    "\n",
    "objective_function(MODEL_VECTOR_0, verbose=True)"
   ]
  },
  {
   "cell_type": "code",
   "execution_count": null,
   "metadata": {
    "iooxa": {
     "id": {
      "block": "iswzzsAD27XnYdV7p5aC",
      "project": "9QvEu5l3VaIkb17PuoF9",
      "version": 2
     },
     "outputId": {
      "block": "nUOP00N9mCHQFttTIVZS",
      "project": "9QvEu5l3VaIkb17PuoF9",
      "version": 2
     }
    }
   },
   "outputs": [],
   "source": [
    "from scipy.optimize import minimize\n",
    "method = 'nelder-mead'\n",
    "method = 'Powell'\n",
    "#method = 'CG'\n",
    "#method = 'Newton-CG'\n",
    "res = minimize(objective_function, MODEL_VECTOR_0, method=method, options={'xatol': 1e-10, 'disp': True, })"
   ]
  },
  {
   "cell_type": "code",
   "execution_count": null,
   "metadata": {
    "iooxa": {
     "id": {
      "block": "QEb2amiKsUa8KbZIrXEK",
      "project": "9QvEu5l3VaIkb17PuoF9",
      "version": 2
     },
     "outputId": {
      "block": "6CTKyCCegUN3hZNPdb63",
      "project": "9QvEu5l3VaIkb17PuoF9",
      "version": 1
     }
    }
   },
   "outputs": [],
   "source": [
    "res.x\n",
    "bb = res.x[:N_ZEROS+1]\n",
    "aa = res.x[N_ZEROS+1:]\n",
    "zpk = signal.TransferFunction(bb, aa).to_zpk()\n",
    "#zpk = signal.tf2zpk(bb, aa)\n",
    "print(zpk)\n",
    "#print(type(zpk))\n",
    "\n",
    "\n"
   ]
  },
  {
   "cell_type": "code",
   "execution_count": null,
   "metadata": {
    "iooxa": {
     "id": {
      "block": "zvkDTpKBLaLatxq3RHYr",
      "project": "9QvEu5l3VaIkb17PuoF9",
      "version": 2
     },
     "outputId": {
      "block": "aHXm743zuuVzAXXgii0s",
      "project": "9QvEu5l3VaIkb17PuoF9",
      "version": 2
     }
    }
   },
   "outputs": [],
   "source": [
    "plot_response(resp_obs=resp_obs, w_obs=w_obs, x_units='frequency', \n",
    "              zpk_pred=zpk, w_values=w_obs)"
   ]
  },
  {
   "cell_type": "markdown",
   "metadata": {
    "iooxa": {
     "id": {
      "block": "LlbDtrw5oaWYyIa3Vox5",
      "project": "9QvEu5l3VaIkb17PuoF9",
      "version": 1
     }
    }
   },
   "source": [
    "## So, where are we?\n",
    "\n",
    "We have a numeric method that works \"pretty  well\" but could use some serious tuning\n",
    "0. Need a RMS quantifier that tracks the goodness of fit\n",
    "1. We have analytic expressions so lets get some Jacobians and Hessians and try some of the more classical approaches in scipy.minimize\n",
    "\n",
    "2. Lets try a bunch of seed values for each optimization and explore the sum RMS misfits.  \n",
    "3. Do (2) above for a collection of n_poles, n_zeros controls\n",
    "\n",
    "4. Tidy up supporting codes and make some metrics/reports to use for these fits\n",
    "5. Move on"
   ]
  },
  {
   "cell_type": "markdown",
   "metadata": {},
   "source": [
    "## References\n",
    "- https://docs.scipy.org/doc/scipy/reference/generated/scipy.optimize.minimize.html\n",
    "- https://docs.scipy.org/doc/scipy/reference/generated/scipy.signal.tf2zpk.html\n",
    "-"
   ]
  },
  {
   "cell_type": "code",
   "execution_count": null,
   "metadata": {},
   "outputs": [],
   "source": []
  }
 ],
 "metadata": {
  "iooxa": {
   "id": {
    "block": "rnlbBlX9Cs9jbOHWxwWF",
    "project": "9QvEu5l3VaIkb17PuoF9",
    "version": 5
   }
  },
  "kernelspec": {
   "display_name": "Python (aurora)",
   "language": "python",
   "name": "aurora"
  },
  "language_info": {
   "codemirror_mode": {
    "name": "ipython",
    "version": 3
   },
   "file_extension": ".py",
   "mimetype": "text/x-python",
   "name": "python",
   "nbconvert_exporter": "python",
   "pygments_lexer": "ipython3",
   "version": "3.6.12"
  }
 },
 "nbformat": 4,
 "nbformat_minor": 4
}
